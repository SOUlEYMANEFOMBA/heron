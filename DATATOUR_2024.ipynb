{
  "nbformat": 4,
  "nbformat_minor": 0,
  "metadata": {
    "colab": {
      "provenance": [],
      "toc_visible": true,
      "include_colab_link": true
    },
    "kernelspec": {
      "name": "python3",
      "display_name": "Python 3"
    },
    "language_info": {
      "name": "python"
    }
  },
  "cells": [
    {
      "cell_type": "markdown",
      "metadata": {
        "id": "view-in-github",
        "colab_type": "text"
      },
      "source": [
        "<a href=\"https://colab.research.google.com/github/SOUlEYMANEFOMBA/heron/blob/master/DATATOUR_2024.ipynb\" target=\"_parent\"><img src=\"https://colab.research.google.com/assets/colab-badge.svg\" alt=\"Open In Colab\"/></a>"
      ]
    },
    {
      "cell_type": "markdown",
      "source": [
        "---\n",
        "\n",
        "# **Challenge Finale DataTour 2024 :** Prédiction des ventes futures pour une entreprise basée sur les ventes passées et des facteurs contextuels\n",
        "\n",
        "---\n",
        "\n",
        "### **Contexte :**\n",
        "\n",
        "L’Afrique connaît une dynamique économique croissante avec une diversité d'entreprises opérant dans des secteurs variés (commerce de détail, e-commerce, agroalimentaire, etc.). Cependant, l'un des défis majeurs pour les entreprises africaines reste la gestion des stocks et la prédiction des ventes futures. Une prédiction précise des ventes peut aider les entreprises à mieux gérer leur inventaire, optimiser leurs promotions, ajuster leur stratégie de prix et maximiser leurs profits. En raison de la nature volatile de la demande, des promotions fréquentes, de la variation des conditions météorologiques et des événements spéciaux (tels que les fêtes et jours fériés), une méthode basée sur l'analyse des données passées est essentielle pour établir des prévisions fiables.\n",
        "\n",
        "Ce projet vise à **prédire les ventes futures d'une entreprise** en se basant sur les ventes passées et plusieurs facteurs contextuels influençant la demande, notamment les promotions, les jours fériés, les conditions météorologiques et la disponibilité des stocks.\n",
        "\n",
        "---\n",
        "\n",
        "### **Objectifs :**\n",
        "\n",
        "À partir des données historiques de ventes d'une entreprise entre **2022-01-01 et 2024-10-31**, prédire le nombre d'unités qui seront vendues entre le **2024-11-01 et le 2024-11-30**. Cette prédiction permettra à l'entreprise de mieux gérer ses stocks, planifier ses campagnes promotionnelles et ajuster ses stratégies de marketing.\n",
        "\n",
        "---\n",
        "\n",
        "### **Structure des données**\n",
        "\n",
        "Les données sont divisées en deux fichiers distincts :\n",
        "\n",
        "1. **Fichier d’entraînement** (`train.csv`) :\n",
        "   - **Taille** : 83 047 lignes.\n",
        "   - **Colonnes** : Comprend toutes les colonnes, y compris la cible `quantite_vendue`.\n",
        "   - **Utilisation** : Ces données servent à entraîner et tester votre modèles.\n",
        "   - **Source** : https://raw.githubusercontent.com/dataafriquehub/donnee_vente/refs/heads/main/train.csv\n",
        "\n",
        "\n",
        "2. **Fichier de soumission** (`submission.csv`) :\n",
        "   - **Taille** : 2 576 lignes.\n",
        "   - **Colonnes** : Contient toutes les caractéristiques sauf la colonne cible `quantite_vendue`.\n",
        "   - **Utilisation** : Ce fichier doit être utilisé pour générer les prédictions finales, sans accès à la colonne cible.\n",
        "   - **Source** : https://raw.githubusercontent.com/dataafriquehub/donnee_vente/refs/heads/main/submission.csv\n",
        "\n",
        "---\n",
        "\n",
        "### **Description des colonnes**\n",
        "\n",
        "Le dataset contient des informations relatives aux transactions de ventes passées, couvrant la période du **2022-01-01 au 2024-10-31**. Les variables disponibles sont :\n",
        "Voici les informations sous forme de tableau :\n",
        "\n",
        "| **Variable**                | **Description**                                                                                   |\n",
        "|-----------------------------|---------------------------------------------------------------------------------------------------|\n",
        "| **ID Produit (id_produit)**  | Identifiant unique pour chaque produit vendu.                                                     |\n",
        "| **Date (date)**              | La date de la vente, allant du 1er janvier 2022 au 31 octobre 2024.                               |\n",
        "| **Catégorie (categorie)**    | La catégorie du produit (ex. Électronique, Habillement, Alimentaire).                             |\n",
        "| **Marque (marque)**          | La marque du produit (ex. Samsung, Nike, Nestlé, etc.).                                           |\n",
        "| **Prix Unitaire (prix_unitaire)** | Le prix de vente par unité du produit.                                                            |\n",
        "| **Promotion (promotion)**    | Indicateur binaire (0 ou 1) indiquant si le produit était en promotion au moment de la vente.     |\n",
        "| **Jour Férié (jour_ferie)**  | Indicateur binaire (0 ou 1) indiquant si la vente a eu lieu un jour férié.                        |\n",
        "| **Week-end (weekend)**       | Indicateur binaire (0 ou 1) indiquant si la vente a eu lieu un week-end.                          |\n",
        "| **Stock Disponible (stock_disponible)** | Nombre d’unités disponibles pour la vente ce jour-là.                                            |\n",
        "| **Condition Météo (condition_meteo)** | Type de condition météo le jour de la vente (ex. Ensoleillé, Pluie, Orageux, Neigeux).              |\n",
        "| **Région (region)**          | Région géographique de la vente (ex. Urbain, Périurbain, Rural).                                 |\n",
        "| **Moment de la Journée (moment_journee)** | Le moment de la journée où la vente a eu lieu (ex. Matinée, Après-midi, Soirée).                |\n",
        "| **Quantité Vendue (quantite_vendue)** | Le nombre d'unités réellement vendues de chaque produit (pour l'entraînement seulement).         |\n",
        "\n",
        "\n",
        "*Note :* La **Quantité Vendue** est la variable cible à prédire pour la période de novembre 2024.\n",
        "\n",
        "Ces données serviront à entraîner le modèle de prédiction pour estimer les ventes du mois de **novembre 2024** (du **2024-11-01 au 2024-11-30**).\n",
        "\n",
        "---\n",
        "\n",
        "### **Critères d'évaluation**\n",
        "Les prédictions des équipes seront évaluées à l'aide de la **Mean Absolute Percentage Error (MAPE)**. Cette métrique mesure l'erreur moyenne entre les valeurs réelles et prédites en pourcentage.\n",
        "\n",
        "- Les équipes seront classées selon leur **score MAPE**.\n",
        "- **Les équipes ayant les MAPE les plus faibles** (indiquant une meilleure précision) seront classées en tête.\n",
        "- Trois soumissions au plus par équipe quotidiennement\n",
        "\n",
        "---\n",
        "\n",
        "### **Format de la soumission**\n",
        "Les participants doivent soumettre un fichier CSV avec exactement les colonnes suivantes :\n",
        "\n",
        "- **`id`** : L'identifiant de chaque ligne dans `submission.csv`.\n",
        "- **`quantite_vendue`** : La prédiction de la quantite_vendue pour chaque ligne.\n",
        "- **Lien vers le formulaire soumission :** https://docs.google.com/forms/d/e/1FAIpQLSeZcaBaYLSa8ZJ3xcqFEIuTThA4GcaBBIwI32RzEzNaYh-kAg/viewform\n",
        "\n",
        "Exemple de format attendu :\n",
        "```csv\n",
        "id,quantite_vendue\n",
        "1,320\n",
        "2,7500\n",
        "3,1000\n",
        "...\n",
        "```\n",
        "\n",
        "---\n",
        "\n",
        "\n",
        "\n",
        "\n",
        "Ainsi, ce projet de prédiction des ventes est non seulement crucial pour l'entreprise dans sa gestion quotidienne, mais il permet également de mieux anticiper les besoins du marché à l'échelle locale, avec une approche basée sur les données réelles de l'entreprise.\n",
        "\n",
        "**Prêts à relever? Faites donc partir des meilleurs de DataTour2024 et faites briller les couleurs des drapeaux de votre pays**"
      ],
      "metadata": {
        "id": "9DS4tw2fGBsF"
      }
    },
    {
      "cell_type": "markdown",
      "source": [
        "##Analyse Exploiratoire des Données"
      ],
      "metadata": {
        "id": "iNVpLd4Q3Kae"
      }
    },
    {
      "cell_type": "code",
      "source": [
        "import pandas as pd                 # for data manipulation and analysis\n",
        "import numpy as np                  # for mathematical operations\n",
        "import plotly.express as px         # for data visualization\n",
        "import seaborn as sns               # for data visualization\n",
        "import matplotlib.pyplot as plt     # for data visualization"
      ],
      "metadata": {
        "id": "_K7OhjP_KsGX"
      },
      "execution_count": 1,
      "outputs": []
    },
    {
      "cell_type": "code",
      "source": [
        "from google.colab import drive\n",
        "drive.mount('/content/drive')"
      ],
      "metadata": {
        "id": "n4mefpqwUnXw"
      },
      "execution_count": null,
      "outputs": []
    },
    {
      "cell_type": "code",
      "source": [
        "train_data = pd.read_csv(\"https://raw.githubusercontent.com/dataafriquehub/donnee_vente/refs/heads/main/train.csv\")\n",
        "sub_data = pd.read_csv(\"https://raw.githubusercontent.com/dataafriquehub/donnee_vente/refs/heads/main/submission.csv\")"
      ],
      "metadata": {
        "id": "_jSZSrpQ3dFg"
      },
      "execution_count": 2,
      "outputs": []
    },
    {
      "cell_type": "code",
      "source": [
        "train_data.shape\n",
        "sub_data.shape"
      ],
      "metadata": {
        "colab": {
          "base_uri": "https://localhost:8080/"
        },
        "id": "DzMGR_5u3z5Y",
        "outputId": "aa5eb2bb-d725-4ea7-cb60-940ad9c349b7"
      },
      "execution_count": 4,
      "outputs": [
        {
          "output_type": "execute_result",
          "data": {
            "text/plain": [
              "(2576, 13)"
            ]
          },
          "metadata": {},
          "execution_count": 4
        }
      ]
    },
    {
      "cell_type": "code",
      "source": [
        "##Transformez les données dans un type de données adapté.\n",
        "analyst_data = train_data.copy()\n",
        "analyst_data['date'] = pd.to_datetime(analyst_data['date'])\n",
        "for col in analyst_data.columns:\n",
        "    if analyst_data[col].dtype == 'object':\n",
        "        analyst_data[col] = analyst_data[col].astype('category')\n",
        "\n",
        "##Convertir ces variables dans le bon format après le nettoyages\n",
        "# analyst_data['weekend'] = analyst_data['weekend'].astype(int)\n",
        "# analyst_data['promotion'] = analyst_data['promotion'].astype(int)\n",
        "# analyst_data['jour_ferie'] = analyst_data['jour_ferie'].astype(int)"
      ],
      "metadata": {
        "id": "q9UxOd9FIbUu"
      },
      "execution_count": 5,
      "outputs": []
    },
    {
      "cell_type": "markdown",
      "source": [
        "Visualisation des données brutes"
      ],
      "metadata": {
        "id": "va1Em5itK_Cy"
      }
    },
    {
      "cell_type": "code",
      "source": [
        "# Repartition des modalités des variables qualitatives\n",
        "\n",
        "fig, axes = plt.subplots(2, 2, figsize=(20, 10))\n",
        "fig.suptitle('Repartition des modalités des variables qualitatives')\n",
        "sns.countplot(ax=axes[0, 0], x=\"categorie\", data=train_data, palette=\"Set2\")\n",
        "sns.countplot(ax=axes[0, 1], x=\"marque\", data=train_data, palette=\"Set2\")\n",
        "sns.countplot(ax=axes[1, 0], x=\"condition_meteo\", data=train_data, palette=\"Set2\", orient='v')\n",
        "sns.countplot(ax=axes[1, 1], x=\"moment_journee\", data=train_data, palette=\"Set2\")\n",
        "plt.show()"
      ],
      "metadata": {
        "colab": {
          "base_uri": "https://localhost:8080/",
          "height": 1000
        },
        "id": "2xDxqzYs312G",
        "outputId": "1c617ef7-c26b-47e5-f364-30f912dc200d"
      },
      "execution_count": 6,
      "outputs": [
        {
          "output_type": "stream",
          "name": "stderr",
          "text": [
            "<ipython-input-6-886201431524>:5: FutureWarning: \n",
            "\n",
            "Passing `palette` without assigning `hue` is deprecated and will be removed in v0.14.0. Assign the `x` variable to `hue` and set `legend=False` for the same effect.\n",
            "\n",
            "  sns.countplot(ax=axes[0, 0], x=\"categorie\", data=train_data, palette=\"Set2\")\n",
            "<ipython-input-6-886201431524>:6: FutureWarning: \n",
            "\n",
            "Passing `palette` without assigning `hue` is deprecated and will be removed in v0.14.0. Assign the `x` variable to `hue` and set `legend=False` for the same effect.\n",
            "\n",
            "  sns.countplot(ax=axes[0, 1], x=\"marque\", data=train_data, palette=\"Set2\")\n",
            "<ipython-input-6-886201431524>:7: FutureWarning: \n",
            "\n",
            "Passing `palette` without assigning `hue` is deprecated and will be removed in v0.14.0. Assign the `x` variable to `hue` and set `legend=False` for the same effect.\n",
            "\n",
            "  sns.countplot(ax=axes[1, 0], x=\"condition_meteo\", data=train_data, palette=\"Set2\", orient='v')\n",
            "<ipython-input-6-886201431524>:8: FutureWarning: \n",
            "\n",
            "Passing `palette` without assigning `hue` is deprecated and will be removed in v0.14.0. Assign the `x` variable to `hue` and set `legend=False` for the same effect.\n",
            "\n",
            "  sns.countplot(ax=axes[1, 1], x=\"moment_journee\", data=train_data, palette=\"Set2\")\n"
          ]
        },
        {
          "output_type": "display_data",
          "data": {
            "text/plain": [
              "<Figure size 2000x1000 with 4 Axes>"
            ],
            "image/png": "[encoded data removed]"
          },
          "metadata": {}
        }
      ]
    },
    {
      "cell_type": "markdown",
      "source": [
        "Histogramme"
      ],
      "metadata": {
        "id": "YejnyYfQfGRx"
      }
    },
    {
      "cell_type": "code",
      "source": [
        "#kde=True pour avoir la densité en plus de l'histogramme\n",
        "fig, ax = plt.subplots(2,2,figsize=(10, 6))\n",
        "sns.histplot(data=analyst_data, x=\"quantite_vendue\", color=\"#e41a1c\", kde=True, ax=ax[0,0])\n",
        "sns.histplot(data=analyst_data, x=\"prix_unitaire\", color=\"#377eb8\", kde=True, ax=ax[0,1])\n",
        "sns.histplot(data=analyst_data, x=\"stock_disponible\", color=\"#4daf4a\", kde=True, ax=ax[1,0])\n",
        "plt.show()"
      ],
      "metadata": {
        "colab": {
          "base_uri": "https://localhost:8080/",
          "height": 542
        },
        "id": "vcu9gWlx64W_",
        "outputId": "8fb6f1f6-8e06-4715-87f0-55cc80fc15b6"
      },
      "execution_count": 7,
      "outputs": [
        {
          "output_type": "display_data",
          "data": {
            "text/plain": [
              "<Figure size 1000x600 with 4 Axes>"
            ],
            "image/png": "[encoded data removed]"
          },
          "metadata": {}
        }
      ]
    },
    {
      "cell_type": "markdown",
      "source": [
        "Nettoyage de la base des données"
      ],
      "metadata": {
        "id": "espMHgNHgyu2"
      }
    },
    {
      "cell_type": "code",
      "source": [
        "##Suppression des colonnes inutile\n",
        "def drop_unuseful_col(data, cols):\n",
        "  dfs = []\n",
        "  for df in data:\n",
        "\n",
        "      df = df.drop(columns = cols)\n",
        "\n",
        "      dfs.append(df)\n",
        "\n",
        "  return dfs\n",
        "\n",
        "cols = ['Unnamed: 0']\n",
        "trains_data, subs_data = drop_unuseful_col([train_data, sub_data],cols[0])"
      ],
      "metadata": {
        "id": "xWr6mlC5-XRS"
      },
      "execution_count": 8,
      "outputs": []
    },
    {
      "cell_type": "code",
      "source": [
        "##Mise au bon format les données\n",
        "def encodage(data):\n",
        "      dfs=[]\n",
        "      for df in data:\n",
        "         df['date'] = pd.to_datetime(df['date'])\n",
        "         for col in df.columns:\n",
        "            if df[col].dtype == 'object':\n",
        "                df[col] = df[col].astype('category')\n",
        "         dfs.append(df)\n",
        "\n",
        "      return data\n",
        "\n",
        "trains_data,subs_data= encodage([trains_data,subs_data])"
      ],
      "metadata": {
        "id": "9qbPQcAxh4wR"
      },
      "execution_count": 9,
      "outputs": []
    },
    {
      "cell_type": "markdown",
      "source": [
        "Etude des valeurs manquantes et aberantes"
      ],
      "metadata": {
        "id": "Wqergk9oP1c4"
      }
    },
    {
      "cell_type": "code",
      "source": [
        "trains_data.boxplot(column=['prix_unitaire','quantite_vendue','stock_disponible'])\n",
        "plt.title(\"Distribution des variables quantitatives\")\n",
        "plt.show()"
      ],
      "metadata": {
        "colab": {
          "base_uri": "https://localhost:8080/",
          "height": 452
        },
        "id": "qWPwNqnePpJM",
        "outputId": "b59f429a-d928-4f7d-d78c-146353c19b2a"
      },
      "execution_count": 10,
      "outputs": [
        {
          "output_type": "display_data",
          "data": {
            "text/plain": [
              "<Figure size 640x480 with 1 Axes>"
            ],
            "image/png": "[encoded data removed]"
          },
          "metadata": {}
        }
      ]
    },
    {
      "cell_type": "markdown",
      "source": [
        "Valeur manquante"
      ],
      "metadata": {
        "id": "9gMt76mBSKjX"
      }
    },
    {
      "cell_type": "code",
      "source": [
        "na = trains_data.isna().sum()/trains_data.shape[0]*100 #calcul du pourcentage de valeurs manquantes par variable\n",
        "\n",
        "px.bar(na.sort_values(),\n",
        "         title = \"Pourcentage de valeurs manquantes par variable\",\n",
        "         color_discrete_sequence = [\"#377eb8\"],\n",
        "         template='ggplot2',\n",
        "         range_y = [0,100],\n",
        "         width=800,\n",
        "         labels={'value':'%', 'index':''},\n",
        "         color=None\n",
        "        ).update_traces(showlegend=False).update_xaxes(tickangle=45)"
      ],
      "metadata": {
        "colab": {
          "base_uri": "https://localhost:8080/",
          "height": 542
        },
        "id": "pxWobK5gSNKn",
        "outputId": "53c5cb46-6e7a-48a6-af6b-d9bc91039539"
      },
      "execution_count": 11,
      "outputs": [
        {
          "output_type": "display_data",
          "data": {
            "text/html": [
              "<html>\n",
              "<head><meta charset=\"utf-8\" /></head>\n",
              "<body>\n",
              "    <div>            <script src=\"https://cdnjs.cloudflare.com/ajax/libs/mathjax/2.7.5/MathJax.js?config=TeX-AMS-MML_SVG\"></script><script type=\"text/javascript\">if (window.MathJax && window.MathJax.Hub && window.MathJax.Hub.Config) {window.MathJax.Hub.Config({SVG: {font: \"STIX-Web\"}});}</script>                <script type=\"text/javascript\">window.PlotlyConfig = {MathJaxConfig: 'local'};</script>\n",
              "        <script charset=\"utf-8\" src=\"https://cdn.plot.ly/plotly-2.35.2.min.js\"></script>                <div id=\"98b40b8f-c066-467f-b1e6-c2ca3c5f42f4\" class=\"plotly-graph-div\" style=\"height:525px; width:800px;\"></div>            <script type=\"text/javascript\">                                    window.PLOTLYENV=window.PLOTLYENV || {};                                    if (document.getElementById(\"98b40b8f-c066-467f-b1e6-c2ca3c5f42f4\")) {                    Plotly.newPlot(                        \"98b40b8f-c066-467f-b1e6-c2ca3c5f42f4\",                        [{\"alignmentgroup\":\"True\",\"hovertemplate\":\"variable=0\\u003cbr\\u003e=%{x}\\u003cbr\\u003e%=%{y}\\u003cextra\\u003e\\u003c\\u002fextra\\u003e\",\"legendgroup\":\"0\",\"marker\":{\"color\":\"#377eb8\",\"pattern\":{\"shape\":\"\"}},\"name\":\"0\",\"offsetgroup\":\"0\",\"orientation\":\"v\",\"showlegend\":false,\"textposition\":\"auto\",\"x\":[\"date\",\"categorie\",\"prix_unitaire\",\"marque\",\"region\",\"condition_meteo\",\"id_produit\",\"quantite_vendue\",\"stock_disponible\",\"moment_journee\",\"weekend\",\"jour_ferie\",\"promotion\"],\"xaxis\":\"x\",\"y\":[0.0,0.0,5.376473563163028,10.046118463039003,12.842125543367008,13.264777776439848,13.699471383674306,13.735595506159163,16.915722422242826,20.393271280118487,22.228376702349273,25.36515467145111,29.048611027490455],\"yaxis\":\"y\",\"type\":\"bar\"}],                        {\"template\":{\"data\":{\"barpolar\":[{\"marker\":{\"line\":{\"color\":\"rgb(237,237,237)\",\"width\":0.5},\"pattern\":{\"fillmode\":\"overlay\",\"size\":10,\"solidity\":0.2}},\"type\":\"barpolar\"}],\"bar\":[{\"error_x\":{\"color\":\"rgb(51,51,51)\"},\"error_y\":{\"color\":\"rgb(51,51,51)\"},\"marker\":{\"line\":{\"color\":\"rgb(237,237,237)\",\"width\":0.5},\"pattern\":{\"fillmode\":\"overlay\",\"size\":10,\"solidity\":0.2}},\"type\":\"bar\"}],\"carpet\":[{\"aaxis\":{\"endlinecolor\":\"rgb(51,51,51)\",\"gridcolor\":\"white\",\"linecolor\":\"white\",\"minorgridcolor\":\"white\",\"startlinecolor\":\"rgb(51,51,51)\"},\"baxis\":{\"endlinecolor\":\"rgb(51,51,51)\",\"gridcolor\":\"white\",\"linecolor\":\"white\",\"minorgridcolor\":\"white\",\"startlinecolor\":\"rgb(51,51,51)\"},\"type\":\"carpet\"}],\"choropleth\":[{\"colorbar\":{\"outlinewidth\":0,\"tickcolor\":\"rgb(237,237,237)\",\"ticklen\":6,\"ticks\":\"inside\"},\"type\":\"choropleth\"}],\"contourcarpet\":[{\"colorbar\":{\"outlinewidth\":0,\"tickcolor\":\"rgb(237,237,237)\",\"ticklen\":6,\"ticks\":\"inside\"},\"type\":\"contourcarpet\"}],\"contour\":[{\"colorbar\":{\"outlinewidth\":0,\"tickcolor\":\"rgb(237,237,237)\",\"ticklen\":6,\"ticks\":\"inside\"},\"colorscale\":[[0,\"rgb(20,44,66)\"],[1,\"rgb(90,179,244)\"]],\"type\":\"contour\"}],\"heatmapgl\":[{\"colorbar\":{\"outlinewidth\":0,\"tickcolor\":\"rgb(237,237,237)\",\"ticklen\":6,\"ticks\":\"inside\"},\"colorscale\":[[0,\"rgb(20,44,66)\"],[1,\"rgb(90,179,244)\"]],\"type\":\"heatmapgl\"}],\"heatmap\":[{\"colorbar\":{\"outlinewidth\":0,\"tickcolor\":\"rgb(237,237,237)\",\"ticklen\":6,\"ticks\":\"inside\"},\"colorscale\":[[0,\"rgb(20,44,66)\"],[1,\"rgb(90,179,244)\"]],\"type\":\"heatmap\"}],\"histogram2dcontour\":[{\"colorbar\":{\"outlinewidth\":0,\"tickcolor\":\"rgb(237,237,237)\",\"ticklen\":6,\"ticks\":\"inside\"},\"colorscale\":[[0,\"rgb(20,44,66)\"],[1,\"rgb(90,179,244)\"]],\"type\":\"histogram2dcontour\"}],\"histogram2d\":[{\"colorbar\":{\"outlinewidth\":0,\"tickcolor\":\"rgb(237,237,237)\",\"ticklen\":6,\"ticks\":\"inside\"},\"colorscale\":[[0,\"rgb(20,44,66)\"],[1,\"rgb(90,179,244)\"]],\"type\":\"histogram2d\"}],\"histogram\":[{\"marker\":{\"pattern\":{\"fillmode\":\"overlay\",\"size\":10,\"solidity\":0.2}},\"type\":\"histogram\"}],\"mesh3d\":[{\"colorbar\":{\"outlinewidth\":0,\"tickcolor\":\"rgb(237,237,237)\",\"ticklen\":6,\"ticks\":\"inside\"},\"type\":\"mesh3d\"}],\"parcoords\":[{\"line\":{\"colorbar\":{\"outlinewidth\":0,\"tickcolor\":\"rgb(237,237,237)\",\"ticklen\":6,\"ticks\":\"inside\"}},\"type\":\"parcoords\"}],\"pie\":[{\"automargin\":true,\"type\":\"pie\"}],\"scatter3d\":[{\"line\":{\"colorbar\":{\"outlinewidth\":0,\"tickcolor\":\"rgb(237,237,237)\",\"ticklen\":6,\"ticks\":\"inside\"}},\"marker\":{\"colorbar\":{\"outlinewidth\":0,\"tickcolor\":\"rgb(237,237,237)\",\"ticklen\":6,\"ticks\":\"inside\"}},\"type\":\"scatter3d\"}],\"scattercarpet\":[{\"marker\":{\"colorbar\":{\"outlinewidth\":0,\"tickcolor\":\"rgb(237,237,237)\",\"ticklen\":6,\"ticks\":\"inside\"}},\"type\":\"scattercarpet\"}],\"scattergeo\":[{\"marker\":{\"colorbar\":{\"outlinewidth\":0,\"tickcolor\":\"rgb(237,237,237)\",\"ticklen\":6,\"ticks\":\"inside\"}},\"type\":\"scattergeo\"}],\"scattergl\":[{\"marker\":{\"colorbar\":{\"outlinewidth\":0,\"tickcolor\":\"rgb(237,237,237)\",\"ticklen\":6,\"ticks\":\"inside\"}},\"type\":\"scattergl\"}],\"scattermapbox\":[{\"marker\":{\"colorbar\":{\"outlinewidth\":0,\"tickcolor\":\"rgb(237,237,237)\",\"ticklen\":6,\"ticks\":\"inside\"}},\"type\":\"scattermapbox\"}],\"scatterpolargl\":[{\"marker\":{\"colorbar\":{\"outlinewidth\":0,\"tickcolor\":\"rgb(237,237,237)\",\"ticklen\":6,\"ticks\":\"inside\"}},\"type\":\"scatterpolargl\"}],\"scatterpolar\":[{\"marker\":{\"colorbar\":{\"outlinewidth\":0,\"tickcolor\":\"rgb(237,237,237)\",\"ticklen\":6,\"ticks\":\"inside\"}},\"type\":\"scatterpolar\"}],\"scatter\":[{\"fillpattern\":{\"fillmode\":\"overlay\",\"size\":10,\"solidity\":0.2},\"type\":\"scatter\"}],\"scatterternary\":[{\"marker\":{\"colorbar\":{\"outlinewidth\":0,\"tickcolor\":\"rgb(237,237,237)\",\"ticklen\":6,\"ticks\":\"inside\"}},\"type\":\"scatterternary\"}],\"surface\":[{\"colorbar\":{\"outlinewidth\":0,\"tickcolor\":\"rgb(237,237,237)\",\"ticklen\":6,\"ticks\":\"inside\"},\"colorscale\":[[0,\"rgb(20,44,66)\"],[1,\"rgb(90,179,244)\"]],\"type\":\"surface\"}],\"table\":[{\"cells\":{\"fill\":{\"color\":\"rgb(237,237,237)\"},\"line\":{\"color\":\"white\"}},\"header\":{\"fill\":{\"color\":\"rgb(217,217,217)\"},\"line\":{\"color\":\"white\"}},\"type\":\"table\"}]},\"layout\":{\"annotationdefaults\":{\"arrowhead\":0,\"arrowwidth\":1},\"autotypenumbers\":\"strict\",\"coloraxis\":{\"colorbar\":{\"outlinewidth\":0,\"tickcolor\":\"rgb(237,237,237)\",\"ticklen\":6,\"ticks\":\"inside\"}},\"colorscale\":{\"sequential\":[[0,\"rgb(20,44,66)\"],[1,\"rgb(90,179,244)\"]],\"sequentialminus\":[[0,\"rgb(20,44,66)\"],[1,\"rgb(90,179,244)\"]]},\"colorway\":[\"#F8766D\",\"#A3A500\",\"#00BF7D\",\"#00B0F6\",\"#E76BF3\"],\"font\":{\"color\":\"rgb(51,51,51)\"},\"geo\":{\"bgcolor\":\"white\",\"lakecolor\":\"white\",\"landcolor\":\"rgb(237,237,237)\",\"showlakes\":true,\"showland\":true,\"subunitcolor\":\"white\"},\"hoverlabel\":{\"align\":\"left\"},\"hovermode\":\"closest\",\"paper_bgcolor\":\"white\",\"plot_bgcolor\":\"rgb(237,237,237)\",\"polar\":{\"angularaxis\":{\"gridcolor\":\"white\",\"linecolor\":\"white\",\"showgrid\":true,\"tickcolor\":\"rgb(51,51,51)\",\"ticks\":\"outside\"},\"bgcolor\":\"rgb(237,237,237)\",\"radialaxis\":{\"gridcolor\":\"white\",\"linecolor\":\"white\",\"showgrid\":true,\"tickcolor\":\"rgb(51,51,51)\",\"ticks\":\"outside\"}},\"scene\":{\"xaxis\":{\"backgroundcolor\":\"rgb(237,237,237)\",\"gridcolor\":\"white\",\"gridwidth\":2,\"linecolor\":\"white\",\"showbackground\":true,\"showgrid\":true,\"tickcolor\":\"rgb(51,51,51)\",\"ticks\":\"outside\",\"zerolinecolor\":\"white\"},\"yaxis\":{\"backgroundcolor\":\"rgb(237,237,237)\",\"gridcolor\":\"white\",\"gridwidth\":2,\"linecolor\":\"white\",\"showbackground\":true,\"showgrid\":true,\"tickcolor\":\"rgb(51,51,51)\",\"ticks\":\"outside\",\"zerolinecolor\":\"white\"},\"zaxis\":{\"backgroundcolor\":\"rgb(237,237,237)\",\"gridcolor\":\"white\",\"gridwidth\":2,\"linecolor\":\"white\",\"showbackground\":true,\"showgrid\":true,\"tickcolor\":\"rgb(51,51,51)\",\"ticks\":\"outside\",\"zerolinecolor\":\"white\"}},\"shapedefaults\":{\"fillcolor\":\"black\",\"line\":{\"width\":0},\"opacity\":0.3},\"ternary\":{\"aaxis\":{\"gridcolor\":\"white\",\"linecolor\":\"white\",\"showgrid\":true,\"tickcolor\":\"rgb(51,51,51)\",\"ticks\":\"outside\"},\"baxis\":{\"gridcolor\":\"white\",\"linecolor\":\"white\",\"showgrid\":true,\"tickcolor\":\"rgb(51,51,51)\",\"ticks\":\"outside\"},\"bgcolor\":\"rgb(237,237,237)\",\"caxis\":{\"gridcolor\":\"white\",\"linecolor\":\"white\",\"showgrid\":true,\"tickcolor\":\"rgb(51,51,51)\",\"ticks\":\"outside\"}},\"xaxis\":{\"automargin\":true,\"gridcolor\":\"white\",\"linecolor\":\"white\",\"showgrid\":true,\"tickcolor\":\"rgb(51,51,51)\",\"ticks\":\"outside\",\"title\":{\"standoff\":15},\"zerolinecolor\":\"white\"},\"yaxis\":{\"automargin\":true,\"gridcolor\":\"white\",\"linecolor\":\"white\",\"showgrid\":true,\"tickcolor\":\"rgb(51,51,51)\",\"ticks\":\"outside\",\"title\":{\"standoff\":15},\"zerolinecolor\":\"white\"}}},\"xaxis\":{\"anchor\":\"y\",\"domain\":[0.0,1.0],\"title\":{\"text\":\"\"},\"tickangle\":45},\"yaxis\":{\"anchor\":\"x\",\"domain\":[0.0,1.0],\"title\":{\"text\":\"%\"},\"range\":[0,100]},\"legend\":{\"title\":{\"text\":\"variable\"},\"tracegroupgap\":0},\"title\":{\"text\":\"Pourcentage de valeurs manquantes par variable\"},\"barmode\":\"relative\",\"width\":800},                        {\"responsive\": true}                    ).then(function(){\n",
              "                            \n",
              "var gd = document.getElementById('98b40b8f-c066-467f-b1e6-c2ca3c5f42f4');\n",
              "var x = new MutationObserver(function (mutations, observer) {{\n",
              "        var display = window.getComputedStyle(gd).display;\n",
              "        if (!display || display === 'none') {{\n",
              "            console.log([gd, 'removed!']);\n",
              "            Plotly.purge(gd);\n",
              "            observer.disconnect();\n",
              "        }}\n",
              "}});\n",
              "\n",
              "// Listen for the removal of the full notebook cells\n",
              "var notebookContainer = gd.closest('#notebook-container');\n",
              "if (notebookContainer) {{\n",
              "    x.observe(notebookContainer, {childList: true});\n",
              "}}\n",
              "\n",
              "// Listen for the clearing of the current output cell\n",
              "var outputEl = gd.closest('.output');\n",
              "if (outputEl) {{\n",
              "    x.observe(outputEl, {childList: true});\n",
              "}}\n",
              "\n",
              "                        })                };                            </script>        </div>\n",
              "</body>\n",
              "</html>"
            ]
          },
          "metadata": {}
        }
      ]
    },
    {
      "cell_type": "code",
      "source": [
        "# valeurs manquantes par ligne\n",
        "trains_data.isna().sum(axis=1).value_counts()\n",
        "\n",
        "px.bar(trains_data.isna().sum(axis=1).value_counts(),\n",
        "            title = \"Nombre de valeurs manquantes par ligne\",\n",
        "            color_discrete_sequence = [\"#377eb8\"],\n",
        "            template='ggplot2',\n",
        "            range_y = [0,100],\n",
        "            width=800,\n",
        "            labels={'value':'%', 'index':''},\n",
        "            color=None\n",
        "            ).update_traces(showlegend=False).update_xaxes(tickangle=45)"
      ],
      "metadata": {
        "colab": {
          "base_uri": "https://localhost:8080/",
          "height": 542
        },
        "id": "0hcv_CDMZ_If",
        "outputId": "9ec44884-e5a3-4e01-dd33-064f8fa2c22d"
      },
      "execution_count": 10,
      "outputs": [
        {
          "output_type": "display_data",
          "data": {
            "text/html": [
              "<html>\n",
              "<head><meta charset=\"utf-8\" /></head>\n",
              "<body>\n",
              "    <div>            <script src=\"https://cdnjs.cloudflare.com/ajax/libs/mathjax/2.7.5/MathJax.js?config=TeX-AMS-MML_SVG\"></script><script type=\"text/javascript\">if (window.MathJax && window.MathJax.Hub && window.MathJax.Hub.Config) {window.MathJax.Hub.Config({SVG: {font: \"STIX-Web\"}});}</script>                <script type=\"text/javascript\">window.PlotlyConfig = {MathJaxConfig: 'local'};</script>\n",
              "        <script charset=\"utf-8\" src=\"https://cdn.plot.ly/plotly-2.35.2.min.js\"></script>                <div id=\"23a0eb12-ba65-401d-9c8e-96f5624e9514\" class=\"plotly-graph-div\" style=\"height:525px; width:800px;\"></div>            <script type=\"text/javascript\">                                    window.PLOTLYENV=window.PLOTLYENV || {};                                    if (document.getElementById(\"23a0eb12-ba65-401d-9c8e-96f5624e9514\")) {                    Plotly.newPlot(                        \"23a0eb12-ba65-401d-9c8e-96f5624e9514\",                        [{\"alignmentgroup\":\"True\",\"hovertemplate\":\"variable=count\\u003cbr\\u003e=%{x}\\u003cbr\\u003e%=%{y}\\u003cextra\\u003e\\u003c\\u002fextra\\u003e\",\"legendgroup\":\"count\",\"marker\":{\"color\":\"#377eb8\",\"pattern\":{\"shape\":\"\"}},\"name\":\"count\",\"offsetgroup\":\"count\",\"orientation\":\"v\",\"showlegend\":false,\"textposition\":\"auto\",\"x\":[2,1,3,0,4,5,6,7,8],\"xaxis\":\"x\",\"y\":[24983,24650,14901,10923,5738,1525,286,34,7],\"yaxis\":\"y\",\"type\":\"bar\"}],                        {\"template\":{\"data\":{\"barpolar\":[{\"marker\":{\"line\":{\"color\":\"rgb(237,237,237)\",\"width\":0.5},\"pattern\":{\"fillmode\":\"overlay\",\"size\":10,\"solidity\":0.2}},\"type\":\"barpolar\"}],\"bar\":[{\"error_x\":{\"color\":\"rgb(51,51,51)\"},\"error_y\":{\"color\":\"rgb(51,51,51)\"},\"marker\":{\"line\":{\"color\":\"rgb(237,237,237)\",\"width\":0.5},\"pattern\":{\"fillmode\":\"overlay\",\"size\":10,\"solidity\":0.2}},\"type\":\"bar\"}],\"carpet\":[{\"aaxis\":{\"endlinecolor\":\"rgb(51,51,51)\",\"gridcolor\":\"white\",\"linecolor\":\"white\",\"minorgridcolor\":\"white\",\"startlinecolor\":\"rgb(51,51,51)\"},\"baxis\":{\"endlinecolor\":\"rgb(51,51,51)\",\"gridcolor\":\"white\",\"linecolor\":\"white\",\"minorgridcolor\":\"white\",\"startlinecolor\":\"rgb(51,51,51)\"},\"type\":\"carpet\"}],\"choropleth\":[{\"colorbar\":{\"outlinewidth\":0,\"tickcolor\":\"rgb(237,237,237)\",\"ticklen\":6,\"ticks\":\"inside\"},\"type\":\"choropleth\"}],\"contourcarpet\":[{\"colorbar\":{\"outlinewidth\":0,\"tickcolor\":\"rgb(237,237,237)\",\"ticklen\":6,\"ticks\":\"inside\"},\"type\":\"contourcarpet\"}],\"contour\":[{\"colorbar\":{\"outlinewidth\":0,\"tickcolor\":\"rgb(237,237,237)\",\"ticklen\":6,\"ticks\":\"inside\"},\"colorscale\":[[0,\"rgb(20,44,66)\"],[1,\"rgb(90,179,244)\"]],\"type\":\"contour\"}],\"heatmapgl\":[{\"colorbar\":{\"outlinewidth\":0,\"tickcolor\":\"rgb(237,237,237)\",\"ticklen\":6,\"ticks\":\"inside\"},\"colorscale\":[[0,\"rgb(20,44,66)\"],[1,\"rgb(90,179,244)\"]],\"type\":\"heatmapgl\"}],\"heatmap\":[{\"colorbar\":{\"outlinewidth\":0,\"tickcolor\":\"rgb(237,237,237)\",\"ticklen\":6,\"ticks\":\"inside\"},\"colorscale\":[[0,\"rgb(20,44,66)\"],[1,\"rgb(90,179,244)\"]],\"type\":\"heatmap\"}],\"histogram2dcontour\":[{\"colorbar\":{\"outlinewidth\":0,\"tickcolor\":\"rgb(237,237,237)\",\"ticklen\":6,\"ticks\":\"inside\"},\"colorscale\":[[0,\"rgb(20,44,66)\"],[1,\"rgb(90,179,244)\"]],\"type\":\"histogram2dcontour\"}],\"histogram2d\":[{\"colorbar\":{\"outlinewidth\":0,\"tickcolor\":\"rgb(237,237,237)\",\"ticklen\":6,\"ticks\":\"inside\"},\"colorscale\":[[0,\"rgb(20,44,66)\"],[1,\"rgb(90,179,244)\"]],\"type\":\"histogram2d\"}],\"histogram\":[{\"marker\":{\"pattern\":{\"fillmode\":\"overlay\",\"size\":10,\"solidity\":0.2}},\"type\":\"histogram\"}],\"mesh3d\":[{\"colorbar\":{\"outlinewidth\":0,\"tickcolor\":\"rgb(237,237,237)\",\"ticklen\":6,\"ticks\":\"inside\"},\"type\":\"mesh3d\"}],\"parcoords\":[{\"line\":{\"colorbar\":{\"outlinewidth\":0,\"tickcolor\":\"rgb(237,237,237)\",\"ticklen\":6,\"ticks\":\"inside\"}},\"type\":\"parcoords\"}],\"pie\":[{\"automargin\":true,\"type\":\"pie\"}],\"scatter3d\":[{\"line\":{\"colorbar\":{\"outlinewidth\":0,\"tickcolor\":\"rgb(237,237,237)\",\"ticklen\":6,\"ticks\":\"inside\"}},\"marker\":{\"colorbar\":{\"outlinewidth\":0,\"tickcolor\":\"rgb(237,237,237)\",\"ticklen\":6,\"ticks\":\"inside\"}},\"type\":\"scatter3d\"}],\"scattercarpet\":[{\"marker\":{\"colorbar\":{\"outlinewidth\":0,\"tickcolor\":\"rgb(237,237,237)\",\"ticklen\":6,\"ticks\":\"inside\"}},\"type\":\"scattercarpet\"}],\"scattergeo\":[{\"marker\":{\"colorbar\":{\"outlinewidth\":0,\"tickcolor\":\"rgb(237,237,237)\",\"ticklen\":6,\"ticks\":\"inside\"}},\"type\":\"scattergeo\"}],\"scattergl\":[{\"marker\":{\"colorbar\":{\"outlinewidth\":0,\"tickcolor\":\"rgb(237,237,237)\",\"ticklen\":6,\"ticks\":\"inside\"}},\"type\":\"scattergl\"}],\"scattermapbox\":[{\"marker\":{\"colorbar\":{\"outlinewidth\":0,\"tickcolor\":\"rgb(237,237,237)\",\"ticklen\":6,\"ticks\":\"inside\"}},\"type\":\"scattermapbox\"}],\"scatterpolargl\":[{\"marker\":{\"colorbar\":{\"outlinewidth\":0,\"tickcolor\":\"rgb(237,237,237)\",\"ticklen\":6,\"ticks\":\"inside\"}},\"type\":\"scatterpolargl\"}],\"scatterpolar\":[{\"marker\":{\"colorbar\":{\"outlinewidth\":0,\"tickcolor\":\"rgb(237,237,237)\",\"ticklen\":6,\"ticks\":\"inside\"}},\"type\":\"scatterpolar\"}],\"scatter\":[{\"fillpattern\":{\"fillmode\":\"overlay\",\"size\":10,\"solidity\":0.2},\"type\":\"scatter\"}],\"scatterternary\":[{\"marker\":{\"colorbar\":{\"outlinewidth\":0,\"tickcolor\":\"rgb(237,237,237)\",\"ticklen\":6,\"ticks\":\"inside\"}},\"type\":\"scatterternary\"}],\"surface\":[{\"colorbar\":{\"outlinewidth\":0,\"tickcolor\":\"rgb(237,237,237)\",\"ticklen\":6,\"ticks\":\"inside\"},\"colorscale\":[[0,\"rgb(20,44,66)\"],[1,\"rgb(90,179,244)\"]],\"type\":\"surface\"}],\"table\":[{\"cells\":{\"fill\":{\"color\":\"rgb(237,237,237)\"},\"line\":{\"color\":\"white\"}},\"header\":{\"fill\":{\"color\":\"rgb(217,217,217)\"},\"line\":{\"color\":\"white\"}},\"type\":\"table\"}]},\"layout\":{\"annotationdefaults\":{\"arrowhead\":0,\"arrowwidth\":1},\"autotypenumbers\":\"strict\",\"coloraxis\":{\"colorbar\":{\"outlinewidth\":0,\"tickcolor\":\"rgb(237,237,237)\",\"ticklen\":6,\"ticks\":\"inside\"}},\"colorscale\":{\"sequential\":[[0,\"rgb(20,44,66)\"],[1,\"rgb(90,179,244)\"]],\"sequentialminus\":[[0,\"rgb(20,44,66)\"],[1,\"rgb(90,179,244)\"]]},\"colorway\":[\"#F8766D\",\"#A3A500\",\"#00BF7D\",\"#00B0F6\",\"#E76BF3\"],\"font\":{\"color\":\"rgb(51,51,51)\"},\"geo\":{\"bgcolor\":\"white\",\"lakecolor\":\"white\",\"landcolor\":\"rgb(237,237,237)\",\"showlakes\":true,\"showland\":true,\"subunitcolor\":\"white\"},\"hoverlabel\":{\"align\":\"left\"},\"hovermode\":\"closest\",\"paper_bgcolor\":\"white\",\"plot_bgcolor\":\"rgb(237,237,237)\",\"polar\":{\"angularaxis\":{\"gridcolor\":\"white\",\"linecolor\":\"white\",\"showgrid\":true,\"tickcolor\":\"rgb(51,51,51)\",\"ticks\":\"outside\"},\"bgcolor\":\"rgb(237,237,237)\",\"radialaxis\":{\"gridcolor\":\"white\",\"linecolor\":\"white\",\"showgrid\":true,\"tickcolor\":\"rgb(51,51,51)\",\"ticks\":\"outside\"}},\"scene\":{\"xaxis\":{\"backgroundcolor\":\"rgb(237,237,237)\",\"gridcolor\":\"white\",\"gridwidth\":2,\"linecolor\":\"white\",\"showbackground\":true,\"showgrid\":true,\"tickcolor\":\"rgb(51,51,51)\",\"ticks\":\"outside\",\"zerolinecolor\":\"white\"},\"yaxis\":{\"backgroundcolor\":\"rgb(237,237,237)\",\"gridcolor\":\"white\",\"gridwidth\":2,\"linecolor\":\"white\",\"showbackground\":true,\"showgrid\":true,\"tickcolor\":\"rgb(51,51,51)\",\"ticks\":\"outside\",\"zerolinecolor\":\"white\"},\"zaxis\":{\"backgroundcolor\":\"rgb(237,237,237)\",\"gridcolor\":\"white\",\"gridwidth\":2,\"linecolor\":\"white\",\"showbackground\":true,\"showgrid\":true,\"tickcolor\":\"rgb(51,51,51)\",\"ticks\":\"outside\",\"zerolinecolor\":\"white\"}},\"shapedefaults\":{\"fillcolor\":\"black\",\"line\":{\"width\":0},\"opacity\":0.3},\"ternary\":{\"aaxis\":{\"gridcolor\":\"white\",\"linecolor\":\"white\",\"showgrid\":true,\"tickcolor\":\"rgb(51,51,51)\",\"ticks\":\"outside\"},\"baxis\":{\"gridcolor\":\"white\",\"linecolor\":\"white\",\"showgrid\":true,\"tickcolor\":\"rgb(51,51,51)\",\"ticks\":\"outside\"},\"bgcolor\":\"rgb(237,237,237)\",\"caxis\":{\"gridcolor\":\"white\",\"linecolor\":\"white\",\"showgrid\":true,\"tickcolor\":\"rgb(51,51,51)\",\"ticks\":\"outside\"}},\"xaxis\":{\"automargin\":true,\"gridcolor\":\"white\",\"linecolor\":\"white\",\"showgrid\":true,\"tickcolor\":\"rgb(51,51,51)\",\"ticks\":\"outside\",\"title\":{\"standoff\":15},\"zerolinecolor\":\"white\"},\"yaxis\":{\"automargin\":true,\"gridcolor\":\"white\",\"linecolor\":\"white\",\"showgrid\":true,\"tickcolor\":\"rgb(51,51,51)\",\"ticks\":\"outside\",\"title\":{\"standoff\":15},\"zerolinecolor\":\"white\"}}},\"xaxis\":{\"anchor\":\"y\",\"domain\":[0.0,1.0],\"title\":{\"text\":\"\"},\"tickangle\":45},\"yaxis\":{\"anchor\":\"x\",\"domain\":[0.0,1.0],\"title\":{\"text\":\"%\"},\"range\":[0,100]},\"legend\":{\"title\":{\"text\":\"variable\"},\"tracegroupgap\":0},\"title\":{\"text\":\"Nombre de valeurs manquantes par ligne\"},\"barmode\":\"relative\",\"width\":800},                        {\"responsive\": true}                    ).then(function(){\n",
              "                            \n",
              "var gd = document.getElementById('23a0eb12-ba65-401d-9c8e-96f5624e9514');\n",
              "var x = new MutationObserver(function (mutations, observer) {{\n",
              "        var display = window.getComputedStyle(gd).display;\n",
              "        if (!display || display === 'none') {{\n",
              "            console.log([gd, 'removed!']);\n",
              "            Plotly.purge(gd);\n",
              "            observer.disconnect();\n",
              "        }}\n",
              "}});\n",
              "\n",
              "// Listen for the removal of the full notebook cells\n",
              "var notebookContainer = gd.closest('#notebook-container');\n",
              "if (notebookContainer) {{\n",
              "    x.observe(notebookContainer, {childList: true});\n",
              "}}\n",
              "\n",
              "// Listen for the clearing of the current output cell\n",
              "var outputEl = gd.closest('.output');\n",
              "if (outputEl) {{\n",
              "    x.observe(outputEl, {childList: true});\n",
              "}}\n",
              "\n",
              "                        })                };                            </script>        </div>\n",
              "</body>\n",
              "</html>"
            ]
          },
          "metadata": {}
        }
      ]
    },
    {
      "cell_type": "code",
      "source": [
        "#affichier les lignes avec des valeurs manquantes\n",
        "threshold = round(trains_data.shape[1]*0.7)\n",
        "\n",
        "trains_data[trains_data.isna().sum(axis=1) > threshold]"
      ],
      "metadata": {
        "colab": {
          "base_uri": "https://localhost:8080/",
          "height": 73
        },
        "id": "8y90YYNPaVIw",
        "outputId": "1ff561bd-b841-4422-ef96-773f9aab9987"
      },
      "execution_count": 11,
      "outputs": [
        {
          "output_type": "execute_result",
          "data": {
            "text/plain": [
              "Empty DataFrame\n",
              "Columns: [id_produit, date, categorie, marque, prix_unitaire, promotion, jour_ferie, weekend, stock_disponible, condition_meteo, region, moment_journee, quantite_vendue]\n",
              "Index: []"
            ],
            "text/html": [
              "\n",
              "  <div id=\"df-7cd0919b-5a74-4da6-b22f-3b6a81234565\" class=\"colab-df-container\">\n",
              "    <div>\n",
              "<style scoped>\n",
              "    .dataframe tbody tr th:only-of-type {\n",
              "        vertical-align: middle;\n",
              "    }\n",
              "\n",
              "    .dataframe tbody tr th {\n",
              "        vertical-align: top;\n",
              "    }\n",
              "\n",
              "    .dataframe thead th {\n",
              "        text-align: right;\n",
              "    }\n",
              "</style>\n",
              "<table border=\"1\" class=\"dataframe\">\n",
              "  <thead>\n",
              "    <tr style=\"text-align: right;\">\n",
              "      <th></th>\n",
              "      <th>id_produit</th>\n",
              "      <th>date</th>\n",
              "      <th>categorie</th>\n",
              "      <th>marque</th>\n",
              "      <th>prix_unitaire</th>\n",
              "      <th>promotion</th>\n",
              "      <th>jour_ferie</th>\n",
              "      <th>weekend</th>\n",
              "      <th>stock_disponible</th>\n",
              "      <th>condition_meteo</th>\n",
              "      <th>region</th>\n",
              "      <th>moment_journee</th>\n",
              "      <th>quantite_vendue</th>\n",
              "    </tr>\n",
              "  </thead>\n",
              "  <tbody>\n",
              "  </tbody>\n",
              "</table>\n",
              "</div>\n",
              "    <div class=\"colab-df-buttons\">\n",
              "\n",
              "  <div class=\"colab-df-container\">\n",
              "    <button class=\"colab-df-convert\" onclick=\"convertToInteractive('df-7cd0919b-5a74-4da6-b22f-3b6a81234565')\"\n",
              "            title=\"Convert this dataframe to an interactive table.\"\n",
              "            style=\"display:none;\">\n",
              "\n",
              "  <svg xmlns=\"http://www.w3.org/2000/svg\" height=\"24px\" viewBox=\"0 -960 960 960\">\n",
              "    <path d=\"M120-120v-720h720v720H120Zm60-500h600v-160H180v160Zm220 220h160v-160H400v160Zm0 220h160v-160H400v160ZM180-400h160v-160H180v160Zm440 0h160v-160H620v160ZM180-180h160v-160H180v160Zm440 0h160v-160H620v160Z\"/>\n",
              "  </svg>\n",
              "    </button>\n",
              "\n",
              "  <style>\n",
              "    .colab-df-container {\n",
              "      display:flex;\n",
              "      gap: 12px;\n",
              "    }\n",
              "\n",
              "    .colab-df-convert {\n",
              "      background-color: #E8F0FE;\n",
              "      border: none;\n",
              "      border-radius: 50%;\n",
              "      cursor: pointer;\n",
              "      display: none;\n",
              "      fill: #1967D2;\n",
              "      height: 32px;\n",
              "      padding: 0 0 0 0;\n",
              "      width: 32px;\n",
              "    }\n",
              "\n",
              "    .colab-df-convert:hover {\n",
              "      background-color: #E2EBFA;\n",
              "      box-shadow: 0px 1px 2px rgba(60, 64, 67, 0.3), 0px 1px 3px 1px rgba(60, 64, 67, 0.15);\n",
              "      fill: #174EA6;\n",
              "    }\n",
              "\n",
              "    .colab-df-buttons div {\n",
              "      margin-bottom: 4px;\n",
              "    }\n",
              "\n",
              "    [theme=dark] .colab-df-convert {\n",
              "      background-color: #3B4455;\n",
              "      fill: #D2E3FC;\n",
              "    }\n",
              "\n",
              "    [theme=dark] .colab-df-convert:hover {\n",
              "      background-color: #434B5C;\n",
              "      box-shadow: 0px 1px 3px 1px rgba(0, 0, 0, 0.15);\n",
              "      filter: drop-shadow(0px 1px 2px rgba(0, 0, 0, 0.3));\n",
              "      fill: #FFFFFF;\n",
              "    }\n",
              "  </style>\n",
              "\n",
              "    <script>\n",
              "      const buttonEl =\n",
              "        document.querySelector('#df-7cd0919b-5a74-4da6-b22f-3b6a81234565 button.colab-df-convert');\n",
              "      buttonEl.style.display =\n",
              "        google.colab.kernel.accessAllowed ? 'block' : 'none';\n",
              "\n",
              "      async function convertToInteractive(key) {\n",
              "        const element = document.querySelector('#df-7cd0919b-5a74-4da6-b22f-3b6a81234565');\n",
              "        const dataTable =\n",
              "          await google.colab.kernel.invokeFunction('convertToInteractive',\n",
              "                                                    [key], {});\n",
              "        if (!dataTable) return;\n",
              "\n",
              "        const docLinkHtml = 'Like what you see? Visit the ' +\n",
              "          '<a target=\"_blank\" href=https://colab.research.google.com/notebooks/data_table.ipynb>data table notebook</a>'\n",
              "          + ' to learn more about interactive tables.';\n",
              "        element.innerHTML = '';\n",
              "        dataTable['output_type'] = 'display_data';\n",
              "        await google.colab.output.renderOutput(dataTable, element);\n",
              "        const docLink = document.createElement('div');\n",
              "        docLink.innerHTML = docLinkHtml;\n",
              "        element.appendChild(docLink);\n",
              "      }\n",
              "    </script>\n",
              "  </div>\n",
              "\n",
              "\n",
              "    </div>\n",
              "  </div>\n"
            ],
            "application/vnd.google.colaboratory.intrinsic+json": {
              "type": "dataframe",
              "summary": "{\n  \"name\": \"trains_data[trains_data\",\n  \"rows\": 0,\n  \"fields\": [\n    {\n      \"column\": \"id_produit\",\n      \"properties\": {\n        \"dtype\": \"category\",\n        \"num_unique_values\": 0,\n        \"samples\": [],\n        \"semantic_type\": \"\",\n        \"description\": \"\"\n      }\n    },\n    {\n      \"column\": \"date\",\n      \"properties\": {\n        \"dtype\": \"date\",\n        \"min\": \"NaT\",\n        \"max\": \"NaT\",\n        \"num_unique_values\": 0,\n        \"samples\": [],\n        \"semantic_type\": \"\",\n        \"description\": \"\"\n      }\n    },\n    {\n      \"column\": \"categorie\",\n      \"properties\": {\n        \"dtype\": \"category\",\n        \"num_unique_values\": 0,\n        \"samples\": [],\n        \"semantic_type\": \"\",\n        \"description\": \"\"\n      }\n    },\n    {\n      \"column\": \"marque\",\n      \"properties\": {\n        \"dtype\": \"category\",\n        \"num_unique_values\": 0,\n        \"samples\": [],\n        \"semantic_type\": \"\",\n        \"description\": \"\"\n      }\n    },\n    {\n      \"column\": \"prix_unitaire\",\n      \"properties\": {\n        \"dtype\": \"number\",\n        \"std\": null,\n        \"min\": null,\n        \"max\": null,\n        \"num_unique_values\": 0,\n        \"samples\": [],\n        \"semantic_type\": \"\",\n        \"description\": \"\"\n      }\n    },\n    {\n      \"column\": \"promotion\",\n      \"properties\": {\n        \"dtype\": \"number\",\n        \"std\": null,\n        \"min\": null,\n        \"max\": null,\n        \"num_unique_values\": 0,\n        \"samples\": [],\n        \"semantic_type\": \"\",\n        \"description\": \"\"\n      }\n    },\n    {\n      \"column\": \"jour_ferie\",\n      \"properties\": {\n        \"dtype\": \"number\",\n        \"std\": null,\n        \"min\": null,\n        \"max\": null,\n        \"num_unique_values\": 0,\n        \"samples\": [],\n        \"semantic_type\": \"\",\n        \"description\": \"\"\n      }\n    },\n    {\n      \"column\": \"weekend\",\n      \"properties\": {\n        \"dtype\": \"number\",\n        \"std\": null,\n        \"min\": null,\n        \"max\": null,\n        \"num_unique_values\": 0,\n        \"samples\": [],\n        \"semantic_type\": \"\",\n        \"description\": \"\"\n      }\n    },\n    {\n      \"column\": \"stock_disponible\",\n      \"properties\": {\n        \"dtype\": \"number\",\n        \"std\": null,\n        \"min\": null,\n        \"max\": null,\n        \"num_unique_values\": 0,\n        \"samples\": [],\n        \"semantic_type\": \"\",\n        \"description\": \"\"\n      }\n    },\n    {\n      \"column\": \"condition_meteo\",\n      \"properties\": {\n        \"dtype\": \"category\",\n        \"num_unique_values\": 0,\n        \"samples\": [],\n        \"semantic_type\": \"\",\n        \"description\": \"\"\n      }\n    },\n    {\n      \"column\": \"region\",\n      \"properties\": {\n        \"dtype\": \"category\",\n        \"num_unique_values\": 0,\n        \"samples\": [],\n        \"semantic_type\": \"\",\n        \"description\": \"\"\n      }\n    },\n    {\n      \"column\": \"moment_journee\",\n      \"properties\": {\n        \"dtype\": \"category\",\n        \"num_unique_values\": 0,\n        \"samples\": [],\n        \"semantic_type\": \"\",\n        \"description\": \"\"\n      }\n    },\n    {\n      \"column\": \"quantite_vendue\",\n      \"properties\": {\n        \"dtype\": \"number\",\n        \"std\": null,\n        \"min\": null,\n        \"max\": null,\n        \"num_unique_values\": 0,\n        \"samples\": [],\n        \"semantic_type\": \"\",\n        \"description\": \"\"\n      }\n    }\n  ]\n}"
            }
          },
          "metadata": {},
          "execution_count": 11
        }
      ]
    },
    {
      "cell_type": "code",
      "source": [
        "# imputer perso compatible avec sklearn\n",
        "# necéssite d'implémenter les méthodes fit, transform et fit_transform\n",
        "# pour plus d'infos: https://scikit-learn.org/stable/developers/develop.html\n",
        "\n",
        "class inputer_perso():\n",
        "    def __init__(self) -> None:\n",
        "        pass\n",
        "\n",
        "    def fit(self, X, y=None):\n",
        "        self.X = X\n",
        "        return self\n",
        "\n",
        "    def transform(self, X, y=None):\n",
        "        X = X.copy()\n",
        "        for col in X.columns:\n",
        "            if X[col].dtype != 'float64':\n",
        "                X[col] = X.loc[:,col].fillna(X[col].mode()[0])\n",
        "            else:\n",
        "                X[col] = X.loc[:,col].fillna(X[col].mean())\n",
        "        return X\n",
        "\n",
        "    def fit_transform(self, X, y=None):\n",
        "        self.fit(X)\n",
        "        return self.transform(X)"
      ],
      "metadata": {
        "id": "eZgSQHZMbcAx"
      },
      "execution_count": 12,
      "outputs": []
    },
    {
      "cell_type": "code",
      "source": [
        "# Regles de imputation des données\n",
        "# 1. Si la variable a plus de 40% de valeurs manquantes, on la supprime\n",
        "# 2. Si la variable est qualitative, on remplace les valeurs manquantes par le mode\n",
        "# 3. Si la variable est quantitative, on remplace les valeurs manquantes par la médiane\n",
        "# 4. Autre règle que je veux ajouter à tester après :\n",
        "# 4.1 Au lieu de remplacer par le mode de la colonne je veux plutôt remplacer par le mode du produit( pour variable catégorielles)\n",
        "# 4.2 Au lieu de remplacer par la médiane de la colonne je veux plutôt remplacer par la médianne du produit( pour variable quantitative)\n",
        "\n",
        "def imputation_par_categorie_marque_date(df):\n",
        "    print(\"Nombre de lignes et de colonnes : \", df.shape,\n",
        "          \"\\nNombre de valeurs manquantes : \", df.isnull().sum().sum())\n",
        "\n",
        "    default_categories = {\n",
        "    \"marque\": \"Nestlé\",\n",
        "    \"condition_meteo\": \"Ensoleillé\",\n",
        "    \"moment_journee\": \"Après-midi\",\n",
        "    \"region\": \"Urbain\"\n",
        "        }\n",
        "\n",
        "    df = df.copy()\n",
        "\n",
        "    # Trier les données pour maintenir un ordre logique\n",
        "    # df = df.sort_values(by=['categorie', 'marque', 'date', 'id_produit'], ascending=True)\n",
        "\n",
        "    # Supprimer les colonnes avec plus de 40% de valeurs manquantes\n",
        "    df = df.dropna(thresh=len(df) * 0.6, axis=1)\n",
        "\n",
        "    # Imputation des valeurs manquantes\n",
        "    for col in df.columns:\n",
        "        if col not in ['categorie','date']:  # Exclure les colonnes qui n'ont pas de na\n",
        "            if df[col].dtype == 'object' or df[col].dtype.name == 'category':  # Variables catégorielles\n",
        "                # Remplir les NaN avec le mode par catégorie, marque, date et id_produit\n",
        "                df[col] = df[col].transform(\n",
        "                    lambda x: x.fillna(x.mode()[0] if not x.mode().empty else default_categories.get(col, \"Unknown\")\n",
        "                ))\n",
        "                print(f\"{col} : Mode appliqué\")\n",
        "            else:  # Variables quantitatives\n",
        "                # Remplir les NaN avec la médiane par catégorie, marque et date\n",
        "                df[col] = df[col].transform(\n",
        "                    lambda x: x.fillna(x.median())\n",
        "                )\n",
        "                print(f\"{col} : Médiane appliquée\")\n",
        "\n",
        "    print(\"Données nettoyées !\",\n",
        "          \"\\nNombre de lignes et de colonnes : \", df.shape,\n",
        "          \"\\nNombre de valeurs manquantes : \", df.isnull().sum().sum())\n",
        "\n",
        "    return df\n",
        "clean_data_trains= imputation_par_categorie_marque_date(trains_data)\n",
        "clean_data_subs= imputation_par_categorie_marque_date(subs_data)"
      ],
      "metadata": {
        "id": "o5z-NrK4d37g",
        "colab": {
          "base_uri": "https://localhost:8080/"
        },
        "outputId": "1ec2d701-6908-4cea-d54d-b49513c5028d"
      },
      "execution_count": 13,
      "outputs": [
        {
          "output_type": "stream",
          "name": "stdout",
          "text": [
            "Nombre de lignes et de colonnes :  (83047, 13) \n",
            "Nombre de valeurs manquantes :  151906\n",
            "id_produit : Mode appliqué\n",
            "marque : Mode appliqué\n",
            "prix_unitaire : Médiane appliquée\n",
            "promotion : Médiane appliquée\n",
            "jour_ferie : Médiane appliquée\n",
            "weekend : Médiane appliquée\n",
            "stock_disponible : Médiane appliquée\n",
            "condition_meteo : Mode appliqué\n",
            "region : Mode appliqué\n",
            "moment_journee : Mode appliqué\n",
            "quantite_vendue : Médiane appliquée\n",
            "Données nettoyées ! \n",
            "Nombre de lignes et de colonnes :  (83047, 13) \n",
            "Nombre de valeurs manquantes :  0\n",
            "Nombre de lignes et de colonnes :  (2576, 12) \n",
            "Nombre de valeurs manquantes :  0\n",
            "id_produit : Mode appliqué\n",
            "marque : Mode appliqué\n",
            "prix_unitaire : Médiane appliquée\n",
            "promotion : Médiane appliquée\n",
            "jour_ferie : Médiane appliquée\n",
            "weekend : Médiane appliquée\n",
            "stock_disponible : Médiane appliquée\n",
            "condition_meteo : Mode appliqué\n",
            "region : Mode appliqué\n",
            "moment_journee : Mode appliqué\n",
            "Données nettoyées ! \n",
            "Nombre de lignes et de colonnes :  (2576, 12) \n",
            "Nombre de valeurs manquantes :  0\n"
          ]
        }
      ]
    },
    {
      "cell_type": "code",
      "source": [
        "def indicator_to_int(df):\n",
        "  \"\"\"Transforms indicator variables in a DataFrame to integers.\n",
        "\n",
        "  Args:\n",
        "    df: The input DataFrame.\n",
        "\n",
        "  Returns:\n",
        "    A new DataFrame with indicator variables converted to integers.\n",
        "  \"\"\"\n",
        "  ##Convertir ces variables dans le bon format après le nettoyages\n",
        "  dfs=[]\n",
        "  variables_indicatrice=['weekend','promotion','jour_ferie']\n",
        "  df_copy = df.copy()  # Create a copy to avoid modifying the original DataFrame\n",
        "\n",
        "  for df in df_copy:\n",
        "      for col in variables_indicatrice:\n",
        "          try:\n",
        "              # Attempt to convert to integer, handling potential errors gracefully\n",
        "              df[col] = df[col].astype(int)\n",
        "\n",
        "          except Exception as e:\n",
        "              print(f\"Column '{col}' could not be converted to integers. Check for non-numeric categories due to {e}\")\n",
        "              # You can choose to handle the error in another way (e.g., replace values)\n",
        "              # if necessary.\n",
        "      dfs.append(df)\n",
        "\n",
        "  return dfs\n",
        "\n",
        "\n",
        "# Example usage (assuming 'analyst_data' is your DataFrame)\n",
        "final_clean_data_trains, final_clean_data_subs= indicator_to_int([clean_data_trains,clean_data_subs])"
      ],
      "metadata": {
        "id": "GxtQIQ3l7bkM"
      },
      "execution_count": 14,
      "outputs": []
    },
    {
      "cell_type": "code",
      "source": [
        "final_clean_data_subs.shape"
      ],
      "metadata": {
        "colab": {
          "base_uri": "https://localhost:8080/"
        },
        "id": "g67goSIYVLTu",
        "outputId": "6870975a-4a24-4579-95ec-da3421a2eb24"
      },
      "execution_count": 17,
      "outputs": [
        {
          "output_type": "execute_result",
          "data": {
            "text/plain": [
              "(2576, 12)"
            ]
          },
          "metadata": {},
          "execution_count": 17
        }
      ]
    },
    {
      "cell_type": "markdown",
      "source": [
        "# Modélisation"
      ],
      "metadata": {
        "id": "-Lhu-HCaL-EX"
      }
    },
    {
      "cell_type": "code",
      "source": [
        "final_clean_data_trains.head()"
      ],
      "metadata": {
        "colab": {
          "base_uri": "https://localhost:8080/",
          "height": 313
        },
        "id": "Wn_ZgJjCutTy",
        "outputId": "154b9b38-4db4-4351-c1b9-fa3dc31cc328"
      },
      "execution_count": 20,
      "outputs": [
        {
          "output_type": "execute_result",
          "data": {
            "text/plain": [
              "       id_produit       date     categorie  marque  prix_unitaire  promotion  \\\n",
              "0  HAB-102024-024 2022-01-01   Habillement    Nike       31247.38          0   \n",
              "1  ÉLE-062022-019 2022-01-01  Électronique    Sony       13627.42          1   \n",
              "2  ALI-072022-019 2022-01-01   Alimentaire  Nestlé       14606.88          1   \n",
              "3  HAB-042023-029 2022-01-01   Habillement  Levi's       30778.05          0   \n",
              "4  HAB-122023-027 2022-01-01   Habillement  Levi's        5627.53          0   \n",
              "\n",
              "   jour_ferie  weekend  stock_disponible condition_meteo      region  \\\n",
              "0           0        1              37.0         Neigeux      Urbain   \n",
              "1           0        1             250.0      Ensoleillé      Urbain   \n",
              "2           0        1             426.0         Neigeux       Rural   \n",
              "3           0        0             341.0         Neigeux  Périurbain   \n",
              "4           0        1             135.0      Ensoleillé      Urbain   \n",
              "\n",
              "  moment_journee  quantite_vendue  \n",
              "0         Soirée             15.0  \n",
              "1     Après-midi             23.0  \n",
              "2     Après-midi              7.0  \n",
              "3         Soirée             17.0  \n",
              "4         Soirée             16.0  "
            ],
            "text/html": [
              "\n",
              "  <div id=\"df-4b227f1e-d507-4b4e-bd4d-b7ea748e3b34\" class=\"colab-df-container\">\n",
              "    <div>\n",
              "<style scoped>\n",
              "    .dataframe tbody tr th:only-of-type {\n",
              "        vertical-align: middle;\n",
              "    }\n",
              "\n",
              "    .dataframe tbody tr th {\n",
              "        vertical-align: top;\n",
              "    }\n",
              "\n",
              "    .dataframe thead th {\n",
              "        text-align: right;\n",
              "    }\n",
              "</style>\n",
              "<table border=\"1\" class=\"dataframe\">\n",
              "  <thead>\n",
              "    <tr style=\"text-align: right;\">\n",
              "      <th></th>\n",
              "      <th>id_produit</th>\n",
              "      <th>date</th>\n",
              "      <th>categorie</th>\n",
              "      <th>marque</th>\n",
              "      <th>prix_unitaire</th>\n",
              "      <th>promotion</th>\n",
              "      <th>jour_ferie</th>\n",
              "      <th>weekend</th>\n",
              "      <th>stock_disponible</th>\n",
              "      <th>condition_meteo</th>\n",
              "      <th>region</th>\n",
              "      <th>moment_journee</th>\n",
              "      <th>quantite_vendue</th>\n",
              "    </tr>\n",
              "  </thead>\n",
              "  <tbody>\n",
              "    <tr>\n",
              "      <th>0</th>\n",
              "      <td>HAB-102024-024</td>\n",
              "      <td>2022-01-01</td>\n",
              "      <td>Habillement</td>\n",
              "      <td>Nike</td>\n",
              "      <td>31247.38</td>\n",
              "      <td>0</td>\n",
              "      <td>0</td>\n",
              "      <td>1</td>\n",
              "      <td>37.0</td>\n",
              "      <td>Neigeux</td>\n",
              "      <td>Urbain</td>\n",
              "      <td>Soirée</td>\n",
              "      <td>15.0</td>\n",
              "    </tr>\n",
              "    <tr>\n",
              "      <th>1</th>\n",
              "      <td>ÉLE-062022-019</td>\n",
              "      <td>2022-01-01</td>\n",
              "      <td>Électronique</td>\n",
              "      <td>Sony</td>\n",
              "      <td>13627.42</td>\n",
              "      <td>1</td>\n",
              "      <td>0</td>\n",
              "      <td>1</td>\n",
              "      <td>250.0</td>\n",
              "      <td>Ensoleillé</td>\n",
              "      <td>Urbain</td>\n",
              "      <td>Après-midi</td>\n",
              "      <td>23.0</td>\n",
              "    </tr>\n",
              "    <tr>\n",
              "      <th>2</th>\n",
              "      <td>ALI-072022-019</td>\n",
              "      <td>2022-01-01</td>\n",
              "      <td>Alimentaire</td>\n",
              "      <td>Nestlé</td>\n",
              "      <td>14606.88</td>\n",
              "      <td>1</td>\n",
              "      <td>0</td>\n",
              "      <td>1</td>\n",
              "      <td>426.0</td>\n",
              "      <td>Neigeux</td>\n",
              "      <td>Rural</td>\n",
              "      <td>Après-midi</td>\n",
              "      <td>7.0</td>\n",
              "    </tr>\n",
              "    <tr>\n",
              "      <th>3</th>\n",
              "      <td>HAB-042023-029</td>\n",
              "      <td>2022-01-01</td>\n",
              "      <td>Habillement</td>\n",
              "      <td>Levi's</td>\n",
              "      <td>30778.05</td>\n",
              "      <td>0</td>\n",
              "      <td>0</td>\n",
              "      <td>0</td>\n",
              "      <td>341.0</td>\n",
              "      <td>Neigeux</td>\n",
              "      <td>Périurbain</td>\n",
              "      <td>Soirée</td>\n",
              "      <td>17.0</td>\n",
              "    </tr>\n",
              "    <tr>\n",
              "      <th>4</th>\n",
              "      <td>HAB-122023-027</td>\n",
              "      <td>2022-01-01</td>\n",
              "      <td>Habillement</td>\n",
              "      <td>Levi's</td>\n",
              "      <td>5627.53</td>\n",
              "      <td>0</td>\n",
              "      <td>0</td>\n",
              "      <td>1</td>\n",
              "      <td>135.0</td>\n",
              "      <td>Ensoleillé</td>\n",
              "      <td>Urbain</td>\n",
              "      <td>Soirée</td>\n",
              "      <td>16.0</td>\n",
              "    </tr>\n",
              "  </tbody>\n",
              "</table>\n",
              "</div>\n",
              "    <div class=\"colab-df-buttons\">\n",
              "\n",
              "  <div class=\"colab-df-container\">\n",
              "    <button class=\"colab-df-convert\" onclick=\"convertToInteractive('df-4b227f1e-d507-4b4e-bd4d-b7ea748e3b34')\"\n",
              "            title=\"Convert this dataframe to an interactive table.\"\n",
              "            style=\"display:none;\">\n",
              "\n",
              "  <svg xmlns=\"http://www.w3.org/2000/svg\" height=\"24px\" viewBox=\"0 -960 960 960\">\n",
              "    <path d=\"M120-120v-720h720v720H120Zm60-500h600v-160H180v160Zm220 220h160v-160H400v160Zm0 220h160v-160H400v160ZM180-400h160v-160H180v160Zm440 0h160v-160H620v160ZM180-180h160v-160H180v160Zm440 0h160v-160H620v160Z\"/>\n",
              "  </svg>\n",
              "    </button>\n",
              "\n",
              "  <style>\n",
              "    .colab-df-container {\n",
              "      display:flex;\n",
              "      gap: 12px;\n",
              "    }\n",
              "\n",
              "    .colab-df-convert {\n",
              "      background-color: #E8F0FE;\n",
              "      border: none;\n",
              "      border-radius: 50%;\n",
              "      cursor: pointer;\n",
              "      display: none;\n",
              "      fill: #1967D2;\n",
              "      height: 32px;\n",
              "      padding: 0 0 0 0;\n",
              "      width: 32px;\n",
              "    }\n",
              "\n",
              "    .colab-df-convert:hover {\n",
              "      background-color: #E2EBFA;\n",
              "      box-shadow: 0px 1px 2px rgba(60, 64, 67, 0.3), 0px 1px 3px 1px rgba(60, 64, 67, 0.15);\n",
              "      fill: #174EA6;\n",
              "    }\n",
              "\n",
              "    .colab-df-buttons div {\n",
              "      margin-bottom: 4px;\n",
              "    }\n",
              "\n",
              "    [theme=dark] .colab-df-convert {\n",
              "      background-color: #3B4455;\n",
              "      fill: #D2E3FC;\n",
              "    }\n",
              "\n",
              "    [theme=dark] .colab-df-convert:hover {\n",
              "      background-color: #434B5C;\n",
              "      box-shadow: 0px 1px 3px 1px rgba(0, 0, 0, 0.15);\n",
              "      filter: drop-shadow(0px 1px 2px rgba(0, 0, 0, 0.3));\n",
              "      fill: #FFFFFF;\n",
              "    }\n",
              "  </style>\n",
              "\n",
              "    <script>\n",
              "      const buttonEl =\n",
              "        document.querySelector('#df-4b227f1e-d507-4b4e-bd4d-b7ea748e3b34 button.colab-df-convert');\n",
              "      buttonEl.style.display =\n",
              "        google.colab.kernel.accessAllowed ? 'block' : 'none';\n",
              "\n",
              "      async function convertToInteractive(key) {\n",
              "        const element = document.querySelector('#df-4b227f1e-d507-4b4e-bd4d-b7ea748e3b34');\n",
              "        const dataTable =\n",
              "          await google.colab.kernel.invokeFunction('convertToInteractive',\n",
              "                                                    [key], {});\n",
              "        if (!dataTable) return;\n",
              "\n",
              "        const docLinkHtml = 'Like what you see? Visit the ' +\n",
              "          '<a target=\"_blank\" href=https://colab.research.google.com/notebooks/data_table.ipynb>data table notebook</a>'\n",
              "          + ' to learn more about interactive tables.';\n",
              "        element.innerHTML = '';\n",
              "        dataTable['output_type'] = 'display_data';\n",
              "        await google.colab.output.renderOutput(dataTable, element);\n",
              "        const docLink = document.createElement('div');\n",
              "        docLink.innerHTML = docLinkHtml;\n",
              "        element.appendChild(docLink);\n",
              "      }\n",
              "    </script>\n",
              "  </div>\n",
              "\n",
              "\n",
              "<div id=\"df-5e0efcae-91e4-4301-9d81-0f28493204a0\">\n",
              "  <button class=\"colab-df-quickchart\" onclick=\"quickchart('df-5e0efcae-91e4-4301-9d81-0f28493204a0')\"\n",
              "            title=\"Suggest charts\"\n",
              "            style=\"display:none;\">\n",
              "\n",
              "<svg xmlns=\"http://www.w3.org/2000/svg\" height=\"24px\"viewBox=\"0 0 24 24\"\n",
              "     width=\"24px\">\n",
              "    <g>\n",
              "        <path d=\"M19 3H5c-1.1 0-2 .9-2 2v14c0 1.1.9 2 2 2h14c1.1 0 2-.9 2-2V5c0-1.1-.9-2-2-2zM9 17H7v-7h2v7zm4 0h-2V7h2v10zm4 0h-2v-4h2v4z\"/>\n",
              "    </g>\n",
              "</svg>\n",
              "  </button>\n",
              "\n",
              "<style>\n",
              "  .colab-df-quickchart {\n",
              "      --bg-color: #E8F0FE;\n",
              "      --fill-color: #1967D2;\n",
              "      --hover-bg-color: #E2EBFA;\n",
              "      --hover-fill-color: #174EA6;\n",
              "      --disabled-fill-color: #AAA;\n",
              "      --disabled-bg-color: #DDD;\n",
              "  }\n",
              "\n",
              "  [theme=dark] .colab-df-quickchart {\n",
              "      --bg-color: #3B4455;\n",
              "      --fill-color: #D2E3FC;\n",
              "      --hover-bg-color: #434B5C;\n",
              "      --hover-fill-color: #FFFFFF;\n",
              "      --disabled-bg-color: #3B4455;\n",
              "      --disabled-fill-color: #666;\n",
              "  }\n",
              "\n",
              "  .colab-df-quickchart {\n",
              "    background-color: var(--bg-color);\n",
              "    border: none;\n",
              "    border-radius: 50%;\n",
              "    cursor: pointer;\n",
              "    display: none;\n",
              "    fill: var(--fill-color);\n",
              "    height: 32px;\n",
              "    padding: 0;\n",
              "    width: 32px;\n",
              "  }\n",
              "\n",
              "  .colab-df-quickchart:hover {\n",
              "    background-color: var(--hover-bg-color);\n",
              "    box-shadow: 0 1px 2px rgba(60, 64, 67, 0.3), 0 1px 3px 1px rgba(60, 64, 67, 0.15);\n",
              "    fill: var(--button-hover-fill-color);\n",
              "  }\n",
              "\n",
              "  .colab-df-quickchart-complete:disabled,\n",
              "  .colab-df-quickchart-complete:disabled:hover {\n",
              "    background-color: var(--disabled-bg-color);\n",
              "    fill: var(--disabled-fill-color);\n",
              "    box-shadow: none;\n",
              "  }\n",
              "\n",
              "  .colab-df-spinner {\n",
              "    border: 2px solid var(--fill-color);\n",
              "    border-color: transparent;\n",
              "    border-bottom-color: var(--fill-color);\n",
              "    animation:\n",
              "      spin 1s steps(1) infinite;\n",
              "  }\n",
              "\n",
              "  @keyframes spin {\n",
              "    0% {\n",
              "      border-color: transparent;\n",
              "      border-bottom-color: var(--fill-color);\n",
              "      border-left-color: var(--fill-color);\n",
              "    }\n",
              "    20% {\n",
              "      border-color: transparent;\n",
              "      border-left-color: var(--fill-color);\n",
              "      border-top-color: var(--fill-color);\n",
              "    }\n",
              "    30% {\n",
              "      border-color: transparent;\n",
              "      border-left-color: var(--fill-color);\n",
              "      border-top-color: var(--fill-color);\n",
              "      border-right-color: var(--fill-color);\n",
              "    }\n",
              "    40% {\n",
              "      border-color: transparent;\n",
              "      border-right-color: var(--fill-color);\n",
              "      border-top-color: var(--fill-color);\n",
              "    }\n",
              "    60% {\n",
              "      border-color: transparent;\n",
              "      border-right-color: var(--fill-color);\n",
              "    }\n",
              "    80% {\n",
              "      border-color: transparent;\n",
              "      border-right-color: var(--fill-color);\n",
              "      border-bottom-color: var(--fill-color);\n",
              "    }\n",
              "    90% {\n",
              "      border-color: transparent;\n",
              "      border-bottom-color: var(--fill-color);\n",
              "    }\n",
              "  }\n",
              "</style>\n",
              "\n",
              "  <script>\n",
              "    async function quickchart(key) {\n",
              "      const quickchartButtonEl =\n",
              "        document.querySelector('#' + key + ' button');\n",
              "      quickchartButtonEl.disabled = true;  // To prevent multiple clicks.\n",
              "      quickchartButtonEl.classList.add('colab-df-spinner');\n",
              "      try {\n",
              "        const charts = await google.colab.kernel.invokeFunction(\n",
              "            'suggestCharts', [key], {});\n",
              "      } catch (error) {\n",
              "        console.error('Error during call to suggestCharts:', error);\n",
              "      }\n",
              "      quickchartButtonEl.classList.remove('colab-df-spinner');\n",
              "      quickchartButtonEl.classList.add('colab-df-quickchart-complete');\n",
              "    }\n",
              "    (() => {\n",
              "      let quickchartButtonEl =\n",
              "        document.querySelector('#df-5e0efcae-91e4-4301-9d81-0f28493204a0 button');\n",
              "      quickchartButtonEl.style.display =\n",
              "        google.colab.kernel.accessAllowed ? 'block' : 'none';\n",
              "    })();\n",
              "  </script>\n",
              "</div>\n",
              "\n",
              "    </div>\n",
              "  </div>\n"
            ],
            "application/vnd.google.colaboratory.intrinsic+json": {
              "type": "dataframe",
              "variable_name": "final_clean_data_trains",
              "summary": "{\n  \"name\": \"final_clean_data_trains\",\n  \"rows\": 83047,\n  \"fields\": [\n    {\n      \"column\": \"id_produit\",\n      \"properties\": {\n        \"dtype\": \"category\",\n        \"num_unique_values\": 150,\n        \"samples\": [\n          \"HAB-042023-028\",\n          \"HAB-062022-006\",\n          \"HAB-102024-035\"\n        ],\n        \"semantic_type\": \"\",\n        \"description\": \"\"\n      }\n    },\n    {\n      \"column\": \"date\",\n      \"properties\": {\n        \"dtype\": \"date\",\n        \"min\": \"2022-01-01 00:00:00\",\n        \"max\": \"2024-10-31 00:00:00\",\n        \"num_unique_values\": 1035,\n        \"samples\": [\n          \"2022-10-22 00:00:00\",\n          \"2023-03-30 00:00:00\",\n          \"2023-10-01 00:00:00\"\n        ],\n        \"semantic_type\": \"\",\n        \"description\": \"\"\n      }\n    },\n    {\n      \"column\": \"categorie\",\n      \"properties\": {\n        \"dtype\": \"category\",\n        \"num_unique_values\": 3,\n        \"samples\": [\n          \"Habillement\",\n          \"\\u00c9lectronique\",\n          \"Alimentaire\"\n        ],\n        \"semantic_type\": \"\",\n        \"description\": \"\"\n      }\n    },\n    {\n      \"column\": \"marque\",\n      \"properties\": {\n        \"dtype\": \"category\",\n        \"num_unique_values\": 15,\n        \"samples\": [\n          \"Samsung\",\n          \"Coca-Cola\",\n          \"Nike\"\n        ],\n        \"semantic_type\": \"\",\n        \"description\": \"\"\n      }\n    },\n    {\n      \"column\": \"prix_unitaire\",\n      \"properties\": {\n        \"dtype\": \"number\",\n        \"std\": 13901.481995156943,\n        \"min\": 501.46,\n        \"max\": 49999.74,\n        \"num_unique_values\": 77957,\n        \"samples\": [\n          20931.47,\n          10781.23,\n          46551.18\n        ],\n        \"semantic_type\": \"\",\n        \"description\": \"\"\n      }\n    },\n    {\n      \"column\": \"promotion\",\n      \"properties\": {\n        \"dtype\": \"number\",\n        \"std\": 0,\n        \"min\": 0,\n        \"max\": 1,\n        \"num_unique_values\": 2,\n        \"samples\": [\n          1,\n          0\n        ],\n        \"semantic_type\": \"\",\n        \"description\": \"\"\n      }\n    },\n    {\n      \"column\": \"jour_ferie\",\n      \"properties\": {\n        \"dtype\": \"number\",\n        \"std\": 0,\n        \"min\": 0,\n        \"max\": 1,\n        \"num_unique_values\": 2,\n        \"samples\": [\n          1,\n          0\n        ],\n        \"semantic_type\": \"\",\n        \"description\": \"\"\n      }\n    },\n    {\n      \"column\": \"weekend\",\n      \"properties\": {\n        \"dtype\": \"number\",\n        \"std\": 0,\n        \"min\": 0,\n        \"max\": 1,\n        \"num_unique_values\": 2,\n        \"samples\": [\n          0,\n          1\n        ],\n        \"semantic_type\": \"\",\n        \"description\": \"\"\n      }\n    },\n    {\n      \"column\": \"stock_disponible\",\n      \"properties\": {\n        \"dtype\": \"number\",\n        \"std\": 132.19391845816213,\n        \"min\": 0.0,\n        \"max\": 500.0,\n        \"num_unique_values\": 501,\n        \"samples\": [\n          1.0,\n          423.0\n        ],\n        \"semantic_type\": \"\",\n        \"description\": \"\"\n      }\n    },\n    {\n      \"column\": \"condition_meteo\",\n      \"properties\": {\n        \"dtype\": \"category\",\n        \"num_unique_values\": 5,\n        \"samples\": [\n          \"Ensoleill\\u00e9\",\n          \"Pluie\"\n        ],\n        \"semantic_type\": \"\",\n        \"description\": \"\"\n      }\n    },\n    {\n      \"column\": \"region\",\n      \"properties\": {\n        \"dtype\": \"category\",\n        \"num_unique_values\": 3,\n        \"samples\": [\n          \"Urbain\",\n          \"Rural\"\n        ],\n        \"semantic_type\": \"\",\n        \"description\": \"\"\n      }\n    },\n    {\n      \"column\": \"moment_journee\",\n      \"properties\": {\n        \"dtype\": \"category\",\n        \"num_unique_values\": 3,\n        \"samples\": [\n          \"Soir\\u00e9e\",\n          \"Apr\\u00e8s-midi\"\n        ],\n        \"semantic_type\": \"\",\n        \"description\": \"\"\n      }\n    },\n    {\n      \"column\": \"quantite_vendue\",\n      \"properties\": {\n        \"dtype\": \"number\",\n        \"std\": 4.322819789373018,\n        \"min\": 1.0,\n        \"max\": 39.0,\n        \"num_unique_values\": 39,\n        \"samples\": [\n          36.0,\n          1.0\n        ],\n        \"semantic_type\": \"\",\n        \"description\": \"\"\n      }\n    }\n  ]\n}"
            }
          },
          "metadata": {},
          "execution_count": 20
        }
      ]
    },
    {
      "cell_type": "code",
      "source": [
        "import pandas as pd\n",
        "from sklearn.preprocessing import OneHotEncoder\n",
        "\n",
        "# Chargement de la base de données\n",
        "df = final_clean_data_trains\n",
        "sub_data_s=final_clean_data_subs\n",
        "# Encodage des variables catégorielles pour l'entrainement\n",
        "encoder = OneHotEncoder(sparse_output=False)\n",
        "encoded_categories = encoder.fit_transform(df[['categorie', 'marque', 'region', 'moment_journee','condition_meteo']])\n",
        "encoded_df = pd.DataFrame(encoded_categories, columns=encoder.get_feature_names_out(['categorie', 'marque', 'region', 'moment_journee','condition_meteo']))\n",
        "\n",
        "#encodage pour les données de submission\n",
        "encoded_categories_s = encoder.transform(sub_data_s[['categorie', 'marque', 'region', 'moment_journee','condition_meteo']])\n",
        "encoded_df_s = pd.DataFrame(encoded_categories_s, columns=encoder.get_feature_names_out(['categorie', 'marque', 'region', 'moment_journee','condition_meteo']))\n",
        "\n",
        "# Ajout au DataFrame principal de train\n",
        "df = pd.concat([df, encoded_df], axis=1)\n",
        "df.drop(['categorie', 'marque', 'region', 'moment_journee','condition_meteo'], axis=1, inplace=True)\n",
        "\n",
        "#Ajout au dataframe principal de sub\n",
        "sub_data_s = pd.concat([sub_data_s, encoded_df_s], axis=1)\n",
        "sub_data_s.drop(['categorie', 'marque', 'region', 'moment_journee','condition_meteo'], axis=1, inplace=True)"
      ],
      "metadata": {
        "id": "_tWK_5w0r-B0"
      },
      "execution_count": 68,
      "outputs": []
    },
    {
      "cell_type": "code",
      "source": [
        "from operator import sub\n",
        "#feature engenering\n",
        "# Extraire les informations temporelles\n",
        "df['date'] = pd.to_datetime(df['date'])\n",
        "df['jour_semaine'] = df['date'].dt.weekday  # 0=Lundi, 6=Dimanche\n",
        "df['mois'] = df['date'].dt.month\n",
        "# df['saison'] = df['mois'].apply(lambda x: 'Hiver' if x in [12, 1, 2] else ('Printemps' if x in [3, 4, 5] else ('Été' if x in [6, 7, 8] else 'Automne')))\n",
        "\n",
        "# Tri des données par produit et date\n",
        "df = df.sort_values(by=['id_produit', 'date'])\n",
        "\n",
        "# Transformer les ventes des 30 jours précédents en listes\n",
        "# Appliquer cette fonction à chaque produit\n",
        "# Appliquer le décalage de 30 jours par produit\n",
        "df['quantite_vendue_lag_30'] = df.groupby('id_produit')['quantite_vendue'].shift(30)\n",
        "df = df[df['quantite_vendue_lag_30'].notna()]\n",
        "\n",
        "# df=imputation_par_categorie_marque_date(df)\n",
        "\n",
        "##Pour la base sub\n",
        "#feature engenering\n",
        "# Extraire les informations temporelles\n",
        "sub_data_s['date'] = pd.to_datetime(sub_data_s['date'])\n",
        "sub_data_s['jour_semaine'] = sub_data_s['date'].dt.weekday  # 0=Lundi, 6=Dimanche\n",
        "sub_data_s['mois']=sub_data_s['date'].dt.month\n",
        "# # Extraire les 30 dernières valeurs de 'quantite_vendue' par produit\n",
        "grouped_data30 = final_clean_data_trains.groupby('id_produit').apply(\n",
        "     lambda x: x.sort_values('date', ascending=False).head(30)\n",
        " )\n",
        "\n",
        "# # Reset index and select the desired columns\n",
        "last_30_sales = grouped_data30.reset_index(drop=True)[['id_produit', 'date', 'quantite_vendue']]\n",
        "last_30_sales = last_30_sales.rename(columns={'quantite_vendue': 'quantite_vendue_lag_30'})\n",
        "# Associer les dates de sub_data_s à last_30_sales pour aligner les données\n",
        "last_30_sales= last_30_sales.drop('date', axis=1).merge(\n",
        "    sub_data_s[['id_produit', 'date']], on='id_produit', how='inner'\n",
        ")\n",
        "# Dédupliquer last_30_sales pour s'assurer qu'une seule ligne par (id_produit, date)\n",
        "last_30_sales = last_30_sales.drop_duplicates(subset=['id_produit', 'date'])\n",
        "\n",
        "# Réaliser la jointure en garantissant la taille finale de sub_data_s\n",
        "sub_data_s= sub_data_s.merge(\n",
        "    last_30_sales[['id_produit', 'date', 'quantite_vendue_lag_30']],\n",
        "    on=['id_produit', 'date'],\n",
        "    how='left'\n",
        ")\n",
        "\n",
        "# Vérifier la taille finale\n",
        "assert len(sub_data_s) == 2576, \"La taille finale de sub_data_s n'est pas correcte !\"\n",
        "sub_data_s.shape\n",
        "# # Faire la jointure entre sub_data_s et last_30_sales sur la clé\n",
        "# sub_data_s = sub_data_s.merge(last_30_sales[['id_produit', 'quantite_vendue_lag_30']], on='id_produit', how='left')\n",
        "# # sub_data_s=imputation_par_categorie_marque_date(sub_data_s)\n"
      ],
      "metadata": {
        "colab": {
          "base_uri": "https://localhost:8080/"
        },
        "id": "BclPOzAHr_Jn",
        "outputId": "83cd36e7-e79a-4728-d02c-468212e82629"
      },
      "execution_count": 70,
      "outputs": [
        {
          "output_type": "stream",
          "name": "stderr",
          "text": [
            "<ipython-input-70-7418b0685525>:15: FutureWarning:\n",
            "\n",
            "The default of observed=False is deprecated and will be changed to True in a future version of pandas. Pass observed=False to retain current behavior or observed=True to adopt the future default and silence this warning.\n",
            "\n",
            "<ipython-input-70-7418b0685525>:27: FutureWarning:\n",
            "\n",
            "The default of observed=False is deprecated and will be changed to True in a future version of pandas. Pass observed=False to retain current behavior or observed=True to adopt the future default and silence this warning.\n",
            "\n",
            "<ipython-input-70-7418b0685525>:27: DeprecationWarning:\n",
            "\n",
            "DataFrameGroupBy.apply operated on the grouping columns. This behavior is deprecated, and in a future version of pandas the grouping columns will be excluded from the operation. Either pass `include_groups=False` to exclude the groupings or explicitly select the grouping columns after groupby to silence this warning.\n",
            "\n"
          ]
        },
        {
          "output_type": "execute_result",
          "data": {
            "text/plain": [
              "(2576, 39)"
            ]
          },
          "metadata": {},
          "execution_count": 70
        }
      ]
    },
    {
      "cell_type": "code",
      "source": [
        "##Calculer l'impact du stock sur la quantité vendue.\n",
        "# Si le stock est faible, cela peut limiter les ventes.\n",
        "# Créer une nouvelle variable stock_ratio pour indiquer le ratio de stock par rapport à la demande passée."
      ],
      "metadata": {
        "id": "eWDqDwKQvP2t"
      },
      "execution_count": null,
      "outputs": []
    },
    {
      "cell_type": "code",
      "source": [
        "#modélisation\n",
        "from sklearn.ensemble import RandomForestRegressor\n",
        "from sklearn.model_selection import train_test_split\n",
        "from sklearn.metrics import mean_squared_error\n",
        "\n",
        "# Séparation des variables indépendantes et dépendantes\n",
        "X = df.drop(['quantite_vendue', 'date','id_produit'], axis=1)\n",
        "y = df['quantite_vendue']\n",
        "\n",
        "# Division en train et test\n",
        "X_train, X_test, y_train, y_test = train_test_split(X, y, test_size=0.2, random_state=42)\n"
      ],
      "metadata": {
        "id": "amkKS6RPsJIk"
      },
      "execution_count": 93,
      "outputs": []
    },
    {
      "cell_type": "markdown",
      "source": [
        "RMSE: 0.23482446347423627"
      ],
      "metadata": {
        "id": "ePwCl6TGdtDX"
      }
    },
    {
      "cell_type": "code",
      "source": [
        "from sklearn.ensemble import RandomForestRegressor, GradientBoostingRegressor, AdaBoostRegressor, BaggingRegressor\n",
        "from sklearn.model_selection import GridSearchCV\n",
        "from sklearn.metrics import mean_absolute_percentage_error\n",
        "import joblib\n",
        "\n",
        "def train_and_evaluate_regressors(X_train, y_train, X_test, y_test, model_type='random_forest', param_grid=None,save_model=True):\n",
        "    \"\"\"\n",
        "    Entraîne et évalue les modèles de régression spécifiés, trouve les meilleurs hyperparamètres\n",
        "    avec GridSearchCV, et calcule le RMSE sur l'échelle réelle après une transformation\n",
        "    logarithmique.\n",
        "\n",
        "    Args:\n",
        "        X_train: Les données d'entraînement (features).\n",
        "        y_train: Les valeurs cibles pour l'entraînement (échelle originale).\n",
        "        X_test: Les données de test (features).\n",
        "        y_test: Les valeurs cibles pour le test (échelle originale).\n",
        "        model_type: Le type de modèle à entraîner ('random_forest', 'gradient_boosting',\n",
        "                    'ada_boost', ou 'bagging'). Par défaut 'random_forest'.\n",
        "        param_grid: Un dictionnaire contenant les hyperparamètres à tester pour GridSearchCV.\n",
        "                    Si None, utilise une grille par défaut pour chaque type de modèle.\n",
        "\n",
        "    Returns:\n",
        "        Un tuple contenant :\n",
        "            - Le meilleur modèle entraîné.\n",
        "            - Le RMSE sur les données de test (échelle originale).\n",
        "    \"\"\"\n",
        "\n",
        "    # Grilles d'hyperparamètres par défaut pour chaque modèle\n",
        "    default_param_grids = {\n",
        "        'random_forest': {'n_estimators': [100, 200, 300], 'max_depth': [None, 5, 10]},\n",
        "        'gradient_boosting': {'n_estimators': [100, 200, 300], 'learning_rate': [0.01, 0.1, 0.2]},\n",
        "        'ada_boost': {'n_estimators': [50, 100, 200], 'learning_rate': [0.01, 0.1, 1]},\n",
        "        'bagging': {'n_estimators': [10, 20, 30], 'max_samples': [0.5, 0.7, 1.0]}\n",
        "    }\n",
        "\n",
        "    if param_grid is None:\n",
        "        param_grid = default_param_grids[model_type]\n",
        "\n",
        "    # Choix du modèle\n",
        "    if model_type == 'random_forest':\n",
        "        model = RandomForestRegressor()\n",
        "    elif model_type == 'gradient_boosting':\n",
        "        model = GradientBoostingRegressor()\n",
        "    elif model_type == 'ada_boost':\n",
        "        model = AdaBoostRegressor()\n",
        "    elif model_type == 'bagging':\n",
        "        model = BaggingRegressor()\n",
        "    else:\n",
        "        raise ValueError(\"model_type doit être 'random_forest', 'gradient_boosting', 'ada_boost', ou 'bagging'\")\n",
        "\n",
        "    grid_search = GridSearchCV(model, param_grid, scoring='neg_mean_absolute_percentage_error', cv=5)\n",
        "    grid_search.fit(X_train, y_train)\n",
        "\n",
        "    best_model = grid_search.best_estimator_\n",
        "    y_pred = best_model.predict(X_test).clip(0, None)\n",
        "    MAPE = mean_absolute_percentage_error(y_test, y_pred)\n",
        "\n",
        "    print(f\"Meilleurs hyperparamètres pour {model_type}: {grid_search.best_params_}\")\n",
        "    print(f\"Meilleur score (MSE négatif): {grid_search.best_score_}\")\n",
        "    print(f\"RMSE sur les données de test (échelle originale): {MAPE}\")\n",
        "    if save_model:\n",
        "        filename = f\"{model_type}_model.joblib\"\n",
        "        joblib.dump(best_model, filename)\n",
        "        print(f\"Modèle sauvegardé sous : {filename}\")\n",
        "    return best_model, MAPE"
      ],
      "metadata": {
        "id": "UXnFcHnr76Z4"
      },
      "execution_count": 19,
      "outputs": []
    },
    {
      "cell_type": "code",
      "source": [
        "rf_best_model2 = train_and_evaluate_regressors(X_train, y_train, X_test, y_test, model_type='random_forest', param_grid=None)"
      ],
      "metadata": {
        "colab": {
          "base_uri": "https://localhost:8080/"
        },
        "id": "cSWdcLRxdqBR",
        "outputId": "6b522ebb-2673-47f7-9c51-ebb5a3bfbe6c"
      },
      "execution_count": 94,
      "outputs": [
        {
          "output_type": "stream",
          "name": "stdout",
          "text": [
            "Meilleurs hyperparamètres pour random_forest: {'max_depth': 5, 'n_estimators': 200}\n",
            "Meilleur score (MSE négatif): -0.2340036180873569\n",
            "RMSE sur les données de test (échelle originale): 0.2335042472317143\n",
            "Modèle sauvegardé sous : random_forest_model.joblib\n"
          ]
        }
      ]
    },
    {
      "cell_type": "markdown",
      "source": [
        "Meilleurs hyperparamètres pour random_forest: {'max_depth': 5, 'n_estimators': 300}\n",
        "Meilleur score (MSE négatif): -0.23492476298757098\n",
        "RMSE sur les données de test (échelle originale): 0.22796032138612404\n",
        "Modèle sauvegardé sous : random_forest_model.joblib"
      ],
      "metadata": {
        "id": "HYhcCr-vjQdU"
      }
    },
    {
      "cell_type": "code",
      "source": [
        "##pense à remplacer le 7_day_avg_sales par la moyenne du mois précédent donc pour mes données de submission je vais utiliser ceux du mois d'octobre"
      ],
      "metadata": {
        "id": "x3V791bAv33B"
      },
      "execution_count": null,
      "outputs": []
    },
    {
      "cell_type": "code",
      "source": [
        "# Charger les modèles Lasso et Ridge\n",
        "sub_data_ss=sub_data_s.drop(['date','id_produit'],axis=1)\n",
        "random_forest_model = joblib.load('random_forest_model.joblib')\n",
        "\n",
        "# Générer des prédictions avec le modèle Lasso\n",
        "random_forest_predictions = random_forest_model.predict(sub_data_ss)\n",
        "\n",
        "\n",
        "\n",
        "# Créer un DataFrame avec les prédictions de Lasso\n",
        "random_forest_submission_df = pd.DataFrame({'id': sub_data_s.index, 'quantite_vendue': random_forest_predictions})\n",
        "\n",
        "\n",
        "# Enregistrer les prédictions de Lasso dans un fichier CSV\n",
        "random_forest_submission_df.to_csv('random_forest_submission.csv', index=False)\n",
        "\n"
      ],
      "metadata": {
        "id": "r7Y9GLh8sFjp"
      },
      "execution_count": 95,
      "outputs": []
    }
  ]
}